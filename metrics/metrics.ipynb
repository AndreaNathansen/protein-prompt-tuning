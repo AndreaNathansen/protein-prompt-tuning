{
 "cells": [
  {
   "cell_type": "code",
   "execution_count": null,
   "metadata": {},
   "outputs": [],
   "source": [
    "# TODO documentation\n",
    "# Based on https://github.com/seanrjohnson/protein_scoring/blob/main/colab_notebooks/Protein_Metrics.ipynb"
   ]
  },
  {
   "cell_type": "code",
   "execution_count": null,
   "metadata": {},
   "outputs": [],
   "source": [
    "import os\n",
    "\n",
    "!pip -q install  git+https://github.com/facebookresearch/esm.git@e5e7b06b9a093706607c229ab1c5c9821806814d\n",
    "\n",
    "if (not os.path.isdir(\"protein_gibbs_sampler\")):\n",
    "    !git clone https://github.com/seanrjohnson/protein_gibbs_sampler > /dev/null\n",
    "    !cd protein_gibbs_sampler ; git checkout 7de11ff63f7dca3cb52ef84109152ac8f988b7a0 2>&1 > /dev/null ; yes | pip install -q --no-dependencies . > /dev/null\n",
    "\n",
    "!yes | pip -q install  biopython~=1.79 pytest-datadir~=1.4.1 > /dev/null"
   ]
  },
  {
   "cell_type": "code",
   "execution_count": null,
   "metadata": {},
   "outputs": [],
   "source": [
    "# Read the input file\n",
    "from Bio import SeqIO\n",
    "\n",
    "input_file = 'basemodel-RITA_l-generated.fasta'\n",
    "dataset = list(SeqIO.parse(input_file, \"fasta\"))"
   ]
  },
  {
   "cell_type": "code",
   "execution_count": null,
   "metadata": {},
   "outputs": [],
   "source": [
    "# Performing the \"Quality Checks\"\n",
    "# TODO change order of the filters to do the computationally expensive last\n",
    "from phobius import scrape_phobius_for_transmembrane_domains\n",
    "import numpy as np\n",
    "\n",
    "# remove seqences that don't start with methionine\n",
    "dataset = [seq for seq in dataset if str(seq.seq).startswith('M')]\n",
    "\n",
    "# remove sequences with long repeats\n",
    "def find_longest_repeat(seq, k):\n",
    "  longest = [1] * len(seq)\n",
    "  pattern = [None] * len(seq)\n",
    "  \n",
    "  seq_len = len(seq)\n",
    "  for i in range(seq_len):\n",
    "    if i + k <= seq_len:\n",
    "      pattern[i] = seq[i:i+k]\n",
    "    if i - k >= 0:\n",
    "      if pattern[i-k] == pattern[i]:\n",
    "        longest[i] = longest[i-k] + 1\n",
    "  return max(longest)\n",
    "\n",
    "no_long_repeats = []\n",
    "for sequence in dataset:\n",
    "  if (find_longest_repeat(str(sequence.seq), 1) <= 3 and find_longest_repeat(str(sequence.seq), 1) <= 4):\n",
    "    no_long_repeats.append(sequence)\n",
    "\n",
    "dataset = no_long_repeats\n",
    "\n",
    "# remove sequences with predicted transmembrane domains\n",
    "# hint - scraping might take several seconds to a few minutes, depending on the dataset size\n",
    "transmembrane_mask = scrape_phobius_for_transmembrane_domains(dataset)\n",
    "dataset = np.array(dataset)\n",
    "# transmembrane_mask is an array of boolean predictions, so we use its negation it to only retain sequences without predicted transmembrane domains\n",
    "dataset = np.array(dataset)[~transmembrane_mask]"
   ]
  },
  {
   "cell_type": "code",
   "execution_count": null,
   "metadata": {},
   "outputs": [],
   "source": [
    "from protein_gibbs_sampler.src.pgen.likelihood_esm import main as likelihood_esm\n",
    "from io import StringIO\n",
    "\n",
    "output_file = 'out/esm_results.csv'\n",
    "\n",
    "input_handle = StringIO()\n",
    "SeqIO.write(dataset, input_handle, 'fasta')\n",
    "output_handle = open(output_file, 'w')\n",
    "\n",
    "# TODO fails if a sequences contains more than 1024 amino acids or ambiguous AA characters\n",
    "# TODO can't read lines from StringIO\n",
    "likelihood_esm(input_handle, output_handle, True, 'cpu', 'esm1v', 1, float('inf'), True, 'score', None)\n"
   ]
  }
 ],
 "metadata": {
  "kernelspec": {
   "display_name": "prot",
   "language": "python",
   "name": "python3"
  },
  "language_info": {
   "codemirror_mode": {
    "name": "ipython",
    "version": 3
   },
   "file_extension": ".py",
   "mimetype": "text/x-python",
   "name": "python",
   "nbconvert_exporter": "python",
   "pygments_lexer": "ipython3",
   "version": "3.10.8"
  },
  "orig_nbformat": 4
 },
 "nbformat": 4,
 "nbformat_minor": 2
}
