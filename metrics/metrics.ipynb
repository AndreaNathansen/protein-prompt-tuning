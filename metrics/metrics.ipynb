{
 "cells": [
  {
   "cell_type": "code",
   "execution_count": null,
   "metadata": {},
   "outputs": [],
   "source": [
    "# TODO documentation\n",
    "# Based on https://github.com/seanrjohnson/protein_scoring/blob/main/colab_notebooks/Protein_Metrics.ipynb"
   ]
  },
  {
   "cell_type": "code",
   "execution_count": 1,
   "metadata": {},
   "outputs": [],
   "source": [
    "# Configuration\n",
    "\n",
    "# dataset to be filtered for activation cadidates\n",
    "input_file = '../generated_sequences/basemodel-RITA_l-generated.fasta'\n",
    "\n",
    "# the test dataset to compare ESM-1v scores against\n",
    "testset_file = '../datasets/InterProUniprotPF03272prepared_test.fasta'"
   ]
  },
  {
   "cell_type": "code",
   "execution_count": null,
   "metadata": {},
   "outputs": [],
   "source": [
    "# Install dependencies\n",
    "import os\n",
    "\n",
    "!pip -q install  git+https://github.com/facebookresearch/esm.git@e5e7b06b9a093706607c229ab1c5c9821806814d\n",
    "\n",
    "if (not os.path.isdir('protein_gibbs_sampler')):\n",
    "    !git clone https://github.com/seanrjohnson/protein_gibbs_sampler > /dev/null\n",
    "    !cd protein_gibbs_sampler ; git checkout 7de11ff63f7dca3cb52ef84109152ac8f988b7a0 2>&1 > /dev/null ; yes | pip install -q --no-dependencies . > /dev/null\n",
    "\n",
    "!yes | pip -q install  biopython~=1.79 pytest-datadir~=1.4.1 > /dev/null"
   ]
  },
  {
   "cell_type": "code",
   "execution_count": null,
   "metadata": {},
   "outputs": [],
   "source": [
    "# Read the input sequences to be evaluated\n",
    "from Bio import SeqIO\n",
    "\n",
    "dataset = list(SeqIO.parse(input_file, 'fasta'))"
   ]
  },
  {
   "cell_type": "code",
   "execution_count": null,
   "metadata": {},
   "outputs": [],
   "source": [
    "# Perform the 'Quality Checks'\n",
    "from quality_checks import main as quality_checks\n",
    "\n",
    "dataset = quality_checks(dataset)"
   ]
  },
  {
   "cell_type": "code",
   "execution_count": null,
   "metadata": {},
   "outputs": [],
   "source": [
    "from esm_likelihood import get_esm_likelihood_scores\n",
    "from Bio import SeqIO\n",
    "\n",
    "testset = list(SeqIO.parse(testset_file, 'fasta'))\n",
    "\n",
    "# filter sequences with more than 1024 amino acids because ESM can't handle longer sequences\n",
    "testset = [seq for seq in testset if len(seq) <= 1024]\n",
    "\n",
    "# Calculate cutoff (10th percentile of ESM likelihood scores for the test set)\n",
    "testset_df = get_esm_likelihood_scores(testset)\n",
    "cutoff = testset_df['score'].quantile(q=0.1)\n",
    "cutoff"
   ]
  },
  {
   "cell_type": "code",
   "execution_count": null,
   "metadata": {},
   "outputs": [],
   "source": [
    "# Filter sequences with scores below cutoff\n",
    "df = get_esm_likelihood_scores(dataset)\n",
    "\n",
    "filtered = df[df['score'] > cutoff]\n",
    "ids = list(filtered['id'])"
   ]
  }
 ],
 "metadata": {
  "kernelspec": {
   "display_name": "prot",
   "language": "python",
   "name": "python3"
  },
  "language_info": {
   "codemirror_mode": {
    "name": "ipython",
    "version": 3
   },
   "file_extension": ".py",
   "mimetype": "text/x-python",
   "name": "python",
   "nbconvert_exporter": "python",
   "pygments_lexer": "ipython3",
   "version": "3.10.8"
  },
  "orig_nbformat": 4
 },
 "nbformat": 4,
 "nbformat_minor": 2
}
