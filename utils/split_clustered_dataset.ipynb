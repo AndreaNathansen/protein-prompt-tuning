{
 "cells": [
  {
   "cell_type": "code",
   "execution_count": 179,
   "metadata": {},
   "outputs": [],
   "source": [
    "from sklearn.model_selection import train_test_split\n",
    "from parse_clusters import parse_clusters\n",
    "import numpy as np\n",
    "import pandas as pd"
   ]
  },
  {
   "cell_type": "code",
   "execution_count": 141,
   "metadata": {},
   "outputs": [],
   "source": [
    "clusters = parse_clusters(f\"../datasets/clustered/UniprotPF03272_40__all_seqs.fasta\")\n",
    "clusters = [[str(member.seq) for member in cluster.members] for cluster in clusters]\n",
    "labels = [len(cluster) for cluster in clusters]"
   ]
  },
  {
   "cell_type": "code",
   "execution_count": null,
   "metadata": {},
   "outputs": [],
   "source": [
    "cluster_bin_ids = np.digitize(labels, bins=[0,5,300,1000])\n",
    "print(cluster_bin_ids)\n",
    "x_train, x_test, y_train, y_test = train_test_split(clusters, cluster_bin_ids, test_size=0.1, stratify=cluster_bin_ids)"
   ]
  },
  {
   "cell_type": "code",
   "execution_count": null,
   "metadata": {},
   "outputs": [],
   "source": [
    "print(x_train)\n",
    "print(y_test)\n",
    "print(sum([len(x) for x in x_train]))\n",
    "print(sum([len(x) for x in x_test]))\n",
    "sum([len(x) for x in x_test])/2277"
   ]
  }
 ],
 "metadata": {
  "kernelspec": {
   "display_name": "prot",
   "language": "python",
   "name": "python3"
  },
  "language_info": {
   "codemirror_mode": {
    "name": "ipython",
    "version": 3
   },
   "file_extension": ".py",
   "mimetype": "text/x-python",
   "name": "python",
   "nbconvert_exporter": "python",
   "pygments_lexer": "ipython3",
   "version": "3.10.8"
  },
  "orig_nbformat": 4,
  "vscode": {
   "interpreter": {
    "hash": "6fff25b4eca71b7e8ad08b3e16bdc81f16efc55183b5cdc2ee5e743efeb1ed94"
   }
  }
 },
 "nbformat": 4,
 "nbformat_minor": 2
}
