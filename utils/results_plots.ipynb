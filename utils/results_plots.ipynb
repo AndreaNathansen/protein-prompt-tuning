{
 "cells": [
  {
   "cell_type": "code",
   "execution_count": 1,
   "metadata": {},
   "outputs": [],
   "source": [
    "import matplotlib.pyplot as plt\n",
    "import os\n",
    "import numpy as np\n",
    "import pandas as pd"
   ]
  },
  {
   "cell_type": "code",
   "execution_count": 2,
   "metadata": {},
   "outputs": [
    {
     "data": {
      "text/plain": [
       "'/hpi/fs00/home/andrea.nathansen/protein-prompt-tuning'"
      ]
     },
     "execution_count": 2,
     "metadata": {},
     "output_type": "execute_result"
    }
   ],
   "source": [
    "os.getcwd()\n",
    "os.chdir(\"..\")\n",
    "os.getcwd()"
   ]
  },
  {
   "cell_type": "code",
   "execution_count": 3,
   "metadata": {},
   "outputs": [],
   "source": [
    "def get_results_ablation(result_df):\n",
    "    # Aggregate over runs with different random seeds for prompt-tuned models.\n",
    "    # Ablation is done on validation set.\n",
    "    return result_df[\"val\"].mean(), result_df[\"val\"].std()"
   ]
  },
  {
   "cell_type": "code",
   "execution_count": 4,
   "metadata": {},
   "outputs": [],
   "source": [
    "def get_results_trainvaltest(result_df):\n",
    "    # Aggregate over runs with different random seeds for prompt-tuned models.\n",
    "    # Results for training, validation and test set\n",
    "    return result_df[\"train\"].mean(), result_df[\"train\"].std(), result_df[\"val\"].mean(), result_df[\"val\"].std(), result_df[\"test\"].mean(), result_df[\"test\"].std()"
   ]
  },
  {
   "cell_type": "code",
   "execution_count": 5,
   "metadata": {},
   "outputs": [],
   "source": [
    "def get_results_comparison_to_basemodel(result_df):\n",
    "    # Aggregate over runs with different random seeds for prompt-tuned models.\n",
    "    # Base model model wasn't affected by different random seeds.\n",
    "    return result_df[\"prompt_tuned\"].mean(), result_df[\"prompt_tuned\"].std(), result_df[\"base\"][0]"
   ]
  },
  {
   "cell_type": "code",
   "execution_count": 6,
   "metadata": {},
   "outputs": [],
   "source": [
    "def get_results_protcnn_family_percentage_single_df(result_df):\n",
    "    # The percentage of proteins that were classified as the family\n",
    "    return (result_df[\"is_family\"].sum() / len(result_df[\"is_family\"])) * 100"
   ]
  },
  {
   "cell_type": "code",
   "execution_count": 7,
   "metadata": {},
   "outputs": [],
   "source": [
    "def get_results_protcnn_family_percentage_aggregated(result_dfs):\n",
    "    percentages = [get_results_protcnn_family_percentage_single_df(df) for df in result_dfs]\n",
    "    return np.mean(percentages), np.std(percentages)"
   ]
  },
  {
   "cell_type": "code",
   "execution_count": 8,
   "metadata": {},
   "outputs": [],
   "source": [
    "def generate_results_table_protcnn_comparison(column_names, row_names, result_dfs_protcnn_models, result_df_protcnn_testdata):\n",
    "    table=pd.DataFrame(columns=[\"Test Dataset\"] + column_names, index=row_names)\n",
    "    for i, result_dfs_protcnn_model in enumerate(result_dfs_protcnn_models):\n",
    "        r_prompttuned_mean, r_prompttuned_std = get_results_protcnn_family_percentage_aggregated(result_dfs_protcnn_model)\n",
    "        table[column_names[i]] = [f\"{np.round(r_prompttuned_mean, decimals=1)} ± {np.round(r_prompttuned_std, decimals=1)}\"]\n",
    "    r_testdata = get_results_protcnn_family_percentage_single_df(result_df_protcnn_testdata)\n",
    "    table[\"Test Dataset\"] = [f\"{np.round(r_testdata, decimals=1)}\"]\n",
    "    return table"
   ]
  },
  {
   "cell_type": "code",
   "execution_count": 9,
   "metadata": {},
   "outputs": [],
   "source": [
    "def generate_results_table_for_clustering_comparison(column_names, result_dfs_clusterings):\n",
    "    table=pd.DataFrame(columns=column_names, index=[\"Train\", \"Validation\", \"Test\"])\n",
    "    for i, df in enumerate(result_dfs_clusterings):\n",
    "            r_train_mean, r_train_std, r_val_mean, r_val_std, r_test_mean, r_test_std, = get_results_trainvaltest(df)\n",
    "            table[column_names[i]] = [f\"{np.round(r_train_mean, decimals=2)} ± {np.round(r_train_std, decimals=2)}\", f\"{np.round(r_val_mean, decimals=2)} ± {np.round(r_val_std, decimals=2)}\", f\"{np.round(r_test_mean, decimals=2)} ± {np.round(r_test_std, decimals=2)}\"]\n",
    "    return table"
   ]
  },
  {
   "cell_type": "code",
   "execution_count": 10,
   "metadata": {},
   "outputs": [],
   "source": [
    "def generate_results_table_for_ablation_study(column_names, row_names, result_dfs_ablations):\n",
    "    # [[s,m,l], [s,m,l]]\n",
    "    table=pd.DataFrame(columns=column_names, index=row_names)\n",
    "    for j, result_dfs_for_ablation in enumerate(result_dfs_ablations):\n",
    "        for i, df in enumerate(result_dfs_for_ablation):\n",
    "            r_mean, r_std = get_results_ablation(df)\n",
    "            table[column_names[i]][row_names[j]] = f\"{np.round(r_mean, decimals=2)} ± {np.round(r_std, decimals=2)}\"\n",
    "    return table"
   ]
  },
  {
   "cell_type": "code",
   "execution_count": 11,
   "metadata": {},
   "outputs": [],
   "source": [
    "def generate_results_table_for_comparison_to_basemodel(column_names, result_dfs):\n",
    "    table=pd.DataFrame(columns=column_names, index=[\"Prompt-tuned model (ours)\", \"Base model\"])\n",
    "    for i, df in enumerate(result_dfs):\n",
    "        r_prompttuned_mean, r_prompttuned_std, r_basemodel = get_results_comparison_to_basemodel(df)\n",
    "        table[column_names[i]] = [f\"{np.round(r_prompttuned_mean, decimals=2)} ± {np.round(r_prompttuned_std, decimals=2)}\", np.round(r_basemodel, decimals=2)]\n",
    "    return table"
   ]
  },
  {
   "attachments": {},
   "cell_type": "markdown",
   "metadata": {},
   "source": [
    "# Results of prompt tuning (with defaults) for all model sizes, comparison to base model"
   ]
  },
  {
   "cell_type": "code",
   "execution_count": 13,
   "metadata": {},
   "outputs": [],
   "source": [
    "test_results_defaults_S = pd.read_csv(\"experiment_results/prompt-tuning-clustered-100-RITA_s-fromvocab-True-test_perplexity_comparison.csv\")\n",
    "test_results_defaults_M = pd.read_csv(\"experiment_results/prompt-tuning-clustered-100-RITA_m-fromvocab-True-test_perplexity_comparison.csv\")\n",
    "test_results_defaults_L = pd.read_csv(\"experiment_results/prompt-tuning-clustered-100-RITA_l-fromvocab-True-test_perplexity_comparison.csv\")\n",
    "test_results_defaults_XL = pd.read_csv(\"experiment_results/prompt-tuning-clustered-100-RITA_xl-fromvocab-True-test_perplexity_comparison.csv\")"
   ]
  },
  {
   "cell_type": "code",
   "execution_count": 14,
   "metadata": {},
   "outputs": [
    {
     "data": {
      "text/html": [
       "<div>\n",
       "<style scoped>\n",
       "    .dataframe tbody tr th:only-of-type {\n",
       "        vertical-align: middle;\n",
       "    }\n",
       "\n",
       "    .dataframe tbody tr th {\n",
       "        vertical-align: top;\n",
       "    }\n",
       "\n",
       "    .dataframe thead th {\n",
       "        text-align: right;\n",
       "    }\n",
       "</style>\n",
       "<table border=\"1\" class=\"dataframe\">\n",
       "  <thead>\n",
       "    <tr style=\"text-align: right;\">\n",
       "      <th></th>\n",
       "      <th>S</th>\n",
       "      <th>M</th>\n",
       "      <th>L</th>\n",
       "      <th>XL</th>\n",
       "    </tr>\n",
       "  </thead>\n",
       "  <tbody>\n",
       "    <tr>\n",
       "      <th>Prompt-tuned model (ours)</th>\n",
       "      <td>8.73 ± 0.1</td>\n",
       "      <td>7.25 ± 0.19</td>\n",
       "      <td>6.01 ± 0.5</td>\n",
       "      <td>5.96 ± 0.72</td>\n",
       "    </tr>\n",
       "    <tr>\n",
       "      <th>Base model</th>\n",
       "      <td>13.93</td>\n",
       "      <td>12.31</td>\n",
       "      <td>9.65</td>\n",
       "      <td>6.98</td>\n",
       "    </tr>\n",
       "  </tbody>\n",
       "</table>\n",
       "</div>"
      ],
      "text/plain": [
       "                                    S            M           L           XL\n",
       "Prompt-tuned model (ours)  8.73 ± 0.1  7.25 ± 0.19  6.01 ± 0.5  5.96 ± 0.72\n",
       "Base model                      13.93        12.31        9.65         6.98"
      ]
     },
     "execution_count": 14,
     "metadata": {},
     "output_type": "execute_result"
    }
   ],
   "source": [
    "table_defaults_all_sizes = generate_results_table_for_comparison_to_basemodel([\"S\", \"M\", \"L\", \"XL\"], [test_results_defaults_S, test_results_defaults_M, test_results_defaults_L, test_results_defaults_XL])\n",
    "table_defaults_all_sizes.to_csv(\"experiment_results/final_tables/results_perplexity_model_sizes.csv\")\n",
    "table_defaults_all_sizes"
   ]
  },
  {
   "attachments": {},
   "cell_type": "markdown",
   "metadata": {},
   "source": [
    "# Results for ablation study random uniform init VS from vocab"
   ]
  },
  {
   "cell_type": "code",
   "execution_count": null,
   "metadata": {},
   "outputs": [],
   "source": [
    "trainvaltest_results_fromvocab_S = pd.read_csv(\"experiment_results/prompt-tuning-clustered-100-RITA_s-fromvocab-True-trainvaltest_comparison.csv\")\n",
    "trainvaltest_results_fromvocab_M = pd.read_csv(\"experiment_results/prompt-tuning-clustered-100-RITA_m-fromvocab-True-trainvaltest_comparison.csv\")"
   ]
  },
  {
   "cell_type": "code",
   "execution_count": null,
   "metadata": {},
   "outputs": [],
   "source": [
    "trainvaltest_results_randomuniform_S = pd.read_csv(\"experiment_results/prompt-tuning-clustered-100_s_random_init-RITA_s-fromvocab-False-trainvaltest_comparison.csv\")\n",
    "trainvaltest_results_randomuniform_M = pd.read_csv(\"experiment_results/prompt-tuning-clustered-100_m_random_init-RITA_m-fromvocab-False-trainvaltest_comparison.csv\")"
   ]
  },
  {
   "cell_type": "code",
   "execution_count": null,
   "metadata": {},
   "outputs": [
    {
     "data": {
      "text/html": [
       "<div>\n",
       "<style scoped>\n",
       "    .dataframe tbody tr th:only-of-type {\n",
       "        vertical-align: middle;\n",
       "    }\n",
       "\n",
       "    .dataframe tbody tr th {\n",
       "        vertical-align: top;\n",
       "    }\n",
       "\n",
       "    .dataframe thead th {\n",
       "        text-align: right;\n",
       "    }\n",
       "</style>\n",
       "<table border=\"1\" class=\"dataframe\">\n",
       "  <thead>\n",
       "    <tr style=\"text-align: right;\">\n",
       "      <th></th>\n",
       "      <th>S</th>\n",
       "      <th>M</th>\n",
       "    </tr>\n",
       "  </thead>\n",
       "  <tbody>\n",
       "    <tr>\n",
       "      <th>Sampled Vocab</th>\n",
       "      <td>8.11 ± 0.08</td>\n",
       "      <td>6.81 ± 0.03</td>\n",
       "    </tr>\n",
       "    <tr>\n",
       "      <th>Random Uniform</th>\n",
       "      <td>8.53 ± 0.6</td>\n",
       "      <td>7.07 ± 0.57</td>\n",
       "    </tr>\n",
       "  </tbody>\n",
       "</table>\n",
       "</div>"
      ],
      "text/plain": [
       "                          S            M\n",
       "Sampled Vocab   8.11 ± 0.08  6.81 ± 0.03\n",
       "Random Uniform   8.53 ± 0.6  7.07 ± 0.57"
      ]
     },
     "execution_count": 16,
     "metadata": {},
     "output_type": "execute_result"
    }
   ],
   "source": [
    "table_ablation_study = generate_results_table_for_ablation_study([\"S\", \"M\"], [\"Sampled Vocab\", \"Random Uniform\"],[[trainvaltest_results_fromvocab_S, trainvaltest_results_fromvocab_M], [trainvaltest_results_randomuniform_S, trainvaltest_results_randomuniform_M]])\n",
    "table_ablation_study.to_csv(\"experiment_results/final_tables/results_perplexity_ablation_study.csv\")\n",
    "table_ablation_study"
   ]
  },
  {
   "attachments": {},
   "cell_type": "markdown",
   "metadata": {},
   "source": [
    "# Results for different clustering sequence similarity thresholds"
   ]
  },
  {
   "cell_type": "code",
   "execution_count": null,
   "metadata": {},
   "outputs": [],
   "source": [
    "trainvaltest_results_clustering_100 = pd.read_csv(\"experiment_results/prompt-tuning-clustered-100-RITA_s-fromvocab-True-trainvaltest_comparison.csv\")\n",
    "trainvaltest_results_clustering_95 = pd.read_csv(\"experiment_results/prompt-tuning-clustered-95-RITA_s-fromvocab-True-trainvaltest_comparison.csv\")\n",
    "trainvaltest_results_clustering_65 = pd.read_csv(\"experiment_results/prompt-tuning-clustered-65-RITA_s-fromvocab-True-trainvaltest_comparison.csv\")\n",
    "trainvaltest_results_clustering_35 = pd.read_csv(\"experiment_results/prompt-tuning-clustered-35-RITA_s-fromvocab-True-trainvaltest_comparison.csv\")"
   ]
  },
  {
   "cell_type": "code",
   "execution_count": null,
   "metadata": {},
   "outputs": [
    {
     "data": {
      "text/html": [
       "<div>\n",
       "<style scoped>\n",
       "    .dataframe tbody tr th:only-of-type {\n",
       "        vertical-align: middle;\n",
       "    }\n",
       "\n",
       "    .dataframe tbody tr th {\n",
       "        vertical-align: top;\n",
       "    }\n",
       "\n",
       "    .dataframe thead th {\n",
       "        text-align: right;\n",
       "    }\n",
       "</style>\n",
       "<table border=\"1\" class=\"dataframe\">\n",
       "  <thead>\n",
       "    <tr style=\"text-align: right;\">\n",
       "      <th></th>\n",
       "      <th>100</th>\n",
       "      <th>95</th>\n",
       "      <th>65</th>\n",
       "      <th>35</th>\n",
       "    </tr>\n",
       "  </thead>\n",
       "  <tbody>\n",
       "    <tr>\n",
       "      <th>Train</th>\n",
       "      <td>8.17 ± 0.1</td>\n",
       "      <td>10.27 ± 0.05</td>\n",
       "      <td>11.76 ± 0.08</td>\n",
       "      <td>11.59 ± 0.03</td>\n",
       "    </tr>\n",
       "    <tr>\n",
       "      <th>Validation</th>\n",
       "      <td>8.11 ± 0.08</td>\n",
       "      <td>9.79 ± 0.06</td>\n",
       "      <td>13.15 ± 0.14</td>\n",
       "      <td>12.12 ± 0.02</td>\n",
       "    </tr>\n",
       "    <tr>\n",
       "      <th>Test</th>\n",
       "      <td>8.61 ± 0.09</td>\n",
       "      <td>9.78 ± 0.05</td>\n",
       "      <td>12.71 ± 0.06</td>\n",
       "      <td>13.39 ± 0.02</td>\n",
       "    </tr>\n",
       "  </tbody>\n",
       "</table>\n",
       "</div>"
      ],
      "text/plain": [
       "                    100           95            65            35 \n",
       "Train        8.17 ± 0.1  10.27 ± 0.05  11.76 ± 0.08  11.59 ± 0.03\n",
       "Validation  8.11 ± 0.08   9.79 ± 0.06  13.15 ± 0.14  12.12 ± 0.02\n",
       "Test        8.61 ± 0.09   9.78 ± 0.05  12.71 ± 0.06  13.39 ± 0.02"
      ]
     },
     "execution_count": 18,
     "metadata": {},
     "output_type": "execute_result"
    }
   ],
   "source": [
    "table_trainvaltest_clustering = generate_results_table_for_clustering_comparison([100, 95, 65, 35], [trainvaltest_results_clustering_100,trainvaltest_results_clustering_95, trainvaltest_results_clustering_65, trainvaltest_results_clustering_35])\n",
    "table_trainvaltest_clustering.to_csv(\"experiment_results/final_tables/results_perplexity_clustering_trainvaltest.csv\")\n",
    "table_trainvaltest_clustering"
   ]
  },
  {
   "cell_type": "code",
   "execution_count": null,
   "metadata": {},
   "outputs": [],
   "source": [
    "basemodel_results_clustering_100 = pd.read_csv(\"experiment_results/prompt-tuning-clustered-100-RITA_s-fromvocab-True-test_perplexity_comparison.csv\")\n",
    "basemodel_results_clustering_95 = pd.read_csv(\"experiment_results/prompt-tuning-clustered-95-RITA_s-fromvocab-True-test_perplexity_comparison.csv\")\n",
    "basemodel_results_clustering_65 = pd.read_csv(\"experiment_results/prompt-tuning-clustered-65-RITA_s-fromvocab-True-test_perplexity_comparison.csv\")\n",
    "basemodel_results_clustering_35 = pd.read_csv(\"experiment_results/prompt-tuning-clustered-35-RITA_s-fromvocab-True-test_perplexity_comparison.csv\")"
   ]
  },
  {
   "cell_type": "code",
   "execution_count": null,
   "metadata": {},
   "outputs": [
    {
     "data": {
      "text/html": [
       "<div>\n",
       "<style scoped>\n",
       "    .dataframe tbody tr th:only-of-type {\n",
       "        vertical-align: middle;\n",
       "    }\n",
       "\n",
       "    .dataframe tbody tr th {\n",
       "        vertical-align: top;\n",
       "    }\n",
       "\n",
       "    .dataframe thead th {\n",
       "        text-align: right;\n",
       "    }\n",
       "</style>\n",
       "<table border=\"1\" class=\"dataframe\">\n",
       "  <thead>\n",
       "    <tr style=\"text-align: right;\">\n",
       "      <th></th>\n",
       "      <th>100</th>\n",
       "      <th>95</th>\n",
       "      <th>65</th>\n",
       "      <th>35</th>\n",
       "    </tr>\n",
       "  </thead>\n",
       "  <tbody>\n",
       "    <tr>\n",
       "      <th>Prompt-tuned model (ours)</th>\n",
       "      <td>8.61 ± 0.09</td>\n",
       "      <td>9.78 ± 0.05</td>\n",
       "      <td>12.71 ± 0.06</td>\n",
       "      <td>13.39 ± 0.02</td>\n",
       "    </tr>\n",
       "    <tr>\n",
       "      <th>Base model</th>\n",
       "      <td>14.01</td>\n",
       "      <td>13.04</td>\n",
       "      <td>13.9</td>\n",
       "      <td>14.28</td>\n",
       "    </tr>\n",
       "  </tbody>\n",
       "</table>\n",
       "</div>"
      ],
      "text/plain": [
       "                                   100          95            65   \\\n",
       "Prompt-tuned model (ours)  8.61 ± 0.09  9.78 ± 0.05  12.71 ± 0.06   \n",
       "Base model                       14.01        13.04          13.9   \n",
       "\n",
       "                                    35   \n",
       "Prompt-tuned model (ours)  13.39 ± 0.02  \n",
       "Base model                        14.28  "
      ]
     },
     "execution_count": 20,
     "metadata": {},
     "output_type": "execute_result"
    }
   ],
   "source": [
    "table_basemodelcomparison_clustering = generate_results_table_for_comparison_to_basemodel([100, 95, 65, 35], [basemodel_results_clustering_100, basemodel_results_clustering_95, basemodel_results_clustering_65, basemodel_results_clustering_35])\n",
    "table_basemodelcomparison_clustering.to_csv(\"experiment_results/final_tables/results_perplexity_clustering_basemodelcomparison.csv\")\n",
    "table_basemodelcomparison_clustering"
   ]
  },
  {
   "attachments": {},
   "cell_type": "markdown",
   "metadata": {},
   "source": [
    "# Results for protCNN predictions"
   ]
  },
  {
   "cell_type": "code",
   "execution_count": null,
   "metadata": {},
   "outputs": [],
   "source": [
    "protcnn_results_clustering_100 = [pd.read_csv(f\"experiment_results/protcnn_results/prompt-tuning-clustered-100-RITA_s-fromvocab-True-seed-{i}-generated.fasta_protcnn_results.csv\") for i in range(3)]\n",
    "protcnn_results_clustering_95 = [pd.read_csv(f\"experiment_results/protcnn_results/prompt-tuning-clustered-95-RITA_s-fromvocab-True-seed-{i}-generated.fasta_protcnn_results.csv\") for i in range(3)]\n",
    "protcnn_results_clustering_65 = [pd.read_csv(f\"experiment_results/protcnn_results/prompt-tuning-clustered-65-RITA_s-fromvocab-True-seed-{i}-generated.fasta_protcnn_results.csv\") for i in range(3)]\n",
    "protcnn_results_clustering_35 = [pd.read_csv(f\"experiment_results/protcnn_results/prompt-tuning-clustered-35-RITA_s-fromvocab-True-seed-{i}-generated.fasta_protcnn_results.csv\") for i in range(3)]\n",
    "protcnn_results_basemodel = [pd.read_csv(f\"experiment_results/protcnn_results/basemodel-RITA_s-generated.fasta_protcnn_results.csv\") for i in range(3)]"
   ]
  },
  {
   "cell_type": "code",
   "execution_count": 22,
   "metadata": {},
   "outputs": [
    {
     "ename": "FileNotFoundError",
     "evalue": "[Errno 2] No such file or directory: 'experiment_results/protcnn_results/InterProUniprotPF03272prepared_test.fasta_protcnn_results.csv'",
     "output_type": "error",
     "traceback": [
      "\u001b[0;31m---------------------------------------------------------------------------\u001b[0m",
      "\u001b[0;31mFileNotFoundError\u001b[0m                         Traceback (most recent call last)",
      "Cell \u001b[0;32mIn[22], line 1\u001b[0m\n\u001b[0;32m----> 1\u001b[0m protcnn_results_testdata \u001b[39m=\u001b[39m pd\u001b[39m.\u001b[39;49mread_csv(\u001b[39m\"\u001b[39;49m\u001b[39mexperiment_results/protcnn_results/InterProUniprotPF03272prepared_test.fasta_protcnn_results.csv\u001b[39;49m\u001b[39m\"\u001b[39;49m)\n",
      "File \u001b[0;32m~/miniconda3/envs/prot/lib/python3.10/site-packages/pandas/util/_decorators.py:211\u001b[0m, in \u001b[0;36mdeprecate_kwarg.<locals>._deprecate_kwarg.<locals>.wrapper\u001b[0;34m(*args, **kwargs)\u001b[0m\n\u001b[1;32m    209\u001b[0m     \u001b[39melse\u001b[39;00m:\n\u001b[1;32m    210\u001b[0m         kwargs[new_arg_name] \u001b[39m=\u001b[39m new_arg_value\n\u001b[0;32m--> 211\u001b[0m \u001b[39mreturn\u001b[39;00m func(\u001b[39m*\u001b[39;49margs, \u001b[39m*\u001b[39;49m\u001b[39m*\u001b[39;49mkwargs)\n",
      "File \u001b[0;32m~/miniconda3/envs/prot/lib/python3.10/site-packages/pandas/util/_decorators.py:331\u001b[0m, in \u001b[0;36mdeprecate_nonkeyword_arguments.<locals>.decorate.<locals>.wrapper\u001b[0;34m(*args, **kwargs)\u001b[0m\n\u001b[1;32m    325\u001b[0m \u001b[39mif\u001b[39;00m \u001b[39mlen\u001b[39m(args) \u001b[39m>\u001b[39m num_allow_args:\n\u001b[1;32m    326\u001b[0m     warnings\u001b[39m.\u001b[39mwarn(\n\u001b[1;32m    327\u001b[0m         msg\u001b[39m.\u001b[39mformat(arguments\u001b[39m=\u001b[39m_format_argument_list(allow_args)),\n\u001b[1;32m    328\u001b[0m         \u001b[39mFutureWarning\u001b[39;00m,\n\u001b[1;32m    329\u001b[0m         stacklevel\u001b[39m=\u001b[39mfind_stack_level(),\n\u001b[1;32m    330\u001b[0m     )\n\u001b[0;32m--> 331\u001b[0m \u001b[39mreturn\u001b[39;00m func(\u001b[39m*\u001b[39;49margs, \u001b[39m*\u001b[39;49m\u001b[39m*\u001b[39;49mkwargs)\n",
      "File \u001b[0;32m~/miniconda3/envs/prot/lib/python3.10/site-packages/pandas/io/parsers/readers.py:950\u001b[0m, in \u001b[0;36mread_csv\u001b[0;34m(filepath_or_buffer, sep, delimiter, header, names, index_col, usecols, squeeze, prefix, mangle_dupe_cols, dtype, engine, converters, true_values, false_values, skipinitialspace, skiprows, skipfooter, nrows, na_values, keep_default_na, na_filter, verbose, skip_blank_lines, parse_dates, infer_datetime_format, keep_date_col, date_parser, dayfirst, cache_dates, iterator, chunksize, compression, thousands, decimal, lineterminator, quotechar, quoting, doublequote, escapechar, comment, encoding, encoding_errors, dialect, error_bad_lines, warn_bad_lines, on_bad_lines, delim_whitespace, low_memory, memory_map, float_precision, storage_options)\u001b[0m\n\u001b[1;32m    935\u001b[0m kwds_defaults \u001b[39m=\u001b[39m _refine_defaults_read(\n\u001b[1;32m    936\u001b[0m     dialect,\n\u001b[1;32m    937\u001b[0m     delimiter,\n\u001b[0;32m   (...)\u001b[0m\n\u001b[1;32m    946\u001b[0m     defaults\u001b[39m=\u001b[39m{\u001b[39m\"\u001b[39m\u001b[39mdelimiter\u001b[39m\u001b[39m\"\u001b[39m: \u001b[39m\"\u001b[39m\u001b[39m,\u001b[39m\u001b[39m\"\u001b[39m},\n\u001b[1;32m    947\u001b[0m )\n\u001b[1;32m    948\u001b[0m kwds\u001b[39m.\u001b[39mupdate(kwds_defaults)\n\u001b[0;32m--> 950\u001b[0m \u001b[39mreturn\u001b[39;00m _read(filepath_or_buffer, kwds)\n",
      "File \u001b[0;32m~/miniconda3/envs/prot/lib/python3.10/site-packages/pandas/io/parsers/readers.py:605\u001b[0m, in \u001b[0;36m_read\u001b[0;34m(filepath_or_buffer, kwds)\u001b[0m\n\u001b[1;32m    602\u001b[0m _validate_names(kwds\u001b[39m.\u001b[39mget(\u001b[39m\"\u001b[39m\u001b[39mnames\u001b[39m\u001b[39m\"\u001b[39m, \u001b[39mNone\u001b[39;00m))\n\u001b[1;32m    604\u001b[0m \u001b[39m# Create the parser.\u001b[39;00m\n\u001b[0;32m--> 605\u001b[0m parser \u001b[39m=\u001b[39m TextFileReader(filepath_or_buffer, \u001b[39m*\u001b[39;49m\u001b[39m*\u001b[39;49mkwds)\n\u001b[1;32m    607\u001b[0m \u001b[39mif\u001b[39;00m chunksize \u001b[39mor\u001b[39;00m iterator:\n\u001b[1;32m    608\u001b[0m     \u001b[39mreturn\u001b[39;00m parser\n",
      "File \u001b[0;32m~/miniconda3/envs/prot/lib/python3.10/site-packages/pandas/io/parsers/readers.py:1442\u001b[0m, in \u001b[0;36mTextFileReader.__init__\u001b[0;34m(self, f, engine, **kwds)\u001b[0m\n\u001b[1;32m   1439\u001b[0m     \u001b[39mself\u001b[39m\u001b[39m.\u001b[39moptions[\u001b[39m\"\u001b[39m\u001b[39mhas_index_names\u001b[39m\u001b[39m\"\u001b[39m] \u001b[39m=\u001b[39m kwds[\u001b[39m\"\u001b[39m\u001b[39mhas_index_names\u001b[39m\u001b[39m\"\u001b[39m]\n\u001b[1;32m   1441\u001b[0m \u001b[39mself\u001b[39m\u001b[39m.\u001b[39mhandles: IOHandles \u001b[39m|\u001b[39m \u001b[39mNone\u001b[39;00m \u001b[39m=\u001b[39m \u001b[39mNone\u001b[39;00m\n\u001b[0;32m-> 1442\u001b[0m \u001b[39mself\u001b[39m\u001b[39m.\u001b[39m_engine \u001b[39m=\u001b[39m \u001b[39mself\u001b[39;49m\u001b[39m.\u001b[39;49m_make_engine(f, \u001b[39mself\u001b[39;49m\u001b[39m.\u001b[39;49mengine)\n",
      "File \u001b[0;32m~/miniconda3/envs/prot/lib/python3.10/site-packages/pandas/io/parsers/readers.py:1735\u001b[0m, in \u001b[0;36mTextFileReader._make_engine\u001b[0;34m(self, f, engine)\u001b[0m\n\u001b[1;32m   1733\u001b[0m     \u001b[39mif\u001b[39;00m \u001b[39m\"\u001b[39m\u001b[39mb\u001b[39m\u001b[39m\"\u001b[39m \u001b[39mnot\u001b[39;00m \u001b[39min\u001b[39;00m mode:\n\u001b[1;32m   1734\u001b[0m         mode \u001b[39m+\u001b[39m\u001b[39m=\u001b[39m \u001b[39m\"\u001b[39m\u001b[39mb\u001b[39m\u001b[39m\"\u001b[39m\n\u001b[0;32m-> 1735\u001b[0m \u001b[39mself\u001b[39m\u001b[39m.\u001b[39mhandles \u001b[39m=\u001b[39m get_handle(\n\u001b[1;32m   1736\u001b[0m     f,\n\u001b[1;32m   1737\u001b[0m     mode,\n\u001b[1;32m   1738\u001b[0m     encoding\u001b[39m=\u001b[39;49m\u001b[39mself\u001b[39;49m\u001b[39m.\u001b[39;49moptions\u001b[39m.\u001b[39;49mget(\u001b[39m\"\u001b[39;49m\u001b[39mencoding\u001b[39;49m\u001b[39m\"\u001b[39;49m, \u001b[39mNone\u001b[39;49;00m),\n\u001b[1;32m   1739\u001b[0m     compression\u001b[39m=\u001b[39;49m\u001b[39mself\u001b[39;49m\u001b[39m.\u001b[39;49moptions\u001b[39m.\u001b[39;49mget(\u001b[39m\"\u001b[39;49m\u001b[39mcompression\u001b[39;49m\u001b[39m\"\u001b[39;49m, \u001b[39mNone\u001b[39;49;00m),\n\u001b[1;32m   1740\u001b[0m     memory_map\u001b[39m=\u001b[39;49m\u001b[39mself\u001b[39;49m\u001b[39m.\u001b[39;49moptions\u001b[39m.\u001b[39;49mget(\u001b[39m\"\u001b[39;49m\u001b[39mmemory_map\u001b[39;49m\u001b[39m\"\u001b[39;49m, \u001b[39mFalse\u001b[39;49;00m),\n\u001b[1;32m   1741\u001b[0m     is_text\u001b[39m=\u001b[39;49mis_text,\n\u001b[1;32m   1742\u001b[0m     errors\u001b[39m=\u001b[39;49m\u001b[39mself\u001b[39;49m\u001b[39m.\u001b[39;49moptions\u001b[39m.\u001b[39;49mget(\u001b[39m\"\u001b[39;49m\u001b[39mencoding_errors\u001b[39;49m\u001b[39m\"\u001b[39;49m, \u001b[39m\"\u001b[39;49m\u001b[39mstrict\u001b[39;49m\u001b[39m\"\u001b[39;49m),\n\u001b[1;32m   1743\u001b[0m     storage_options\u001b[39m=\u001b[39;49m\u001b[39mself\u001b[39;49m\u001b[39m.\u001b[39;49moptions\u001b[39m.\u001b[39;49mget(\u001b[39m\"\u001b[39;49m\u001b[39mstorage_options\u001b[39;49m\u001b[39m\"\u001b[39;49m, \u001b[39mNone\u001b[39;49;00m),\n\u001b[1;32m   1744\u001b[0m )\n\u001b[1;32m   1745\u001b[0m \u001b[39massert\u001b[39;00m \u001b[39mself\u001b[39m\u001b[39m.\u001b[39mhandles \u001b[39mis\u001b[39;00m \u001b[39mnot\u001b[39;00m \u001b[39mNone\u001b[39;00m\n\u001b[1;32m   1746\u001b[0m f \u001b[39m=\u001b[39m \u001b[39mself\u001b[39m\u001b[39m.\u001b[39mhandles\u001b[39m.\u001b[39mhandle\n",
      "File \u001b[0;32m~/miniconda3/envs/prot/lib/python3.10/site-packages/pandas/io/common.py:856\u001b[0m, in \u001b[0;36mget_handle\u001b[0;34m(path_or_buf, mode, encoding, compression, memory_map, is_text, errors, storage_options)\u001b[0m\n\u001b[1;32m    851\u001b[0m \u001b[39melif\u001b[39;00m \u001b[39misinstance\u001b[39m(handle, \u001b[39mstr\u001b[39m):\n\u001b[1;32m    852\u001b[0m     \u001b[39m# Check whether the filename is to be opened in binary mode.\u001b[39;00m\n\u001b[1;32m    853\u001b[0m     \u001b[39m# Binary mode does not support 'encoding' and 'newline'.\u001b[39;00m\n\u001b[1;32m    854\u001b[0m     \u001b[39mif\u001b[39;00m ioargs\u001b[39m.\u001b[39mencoding \u001b[39mand\u001b[39;00m \u001b[39m\"\u001b[39m\u001b[39mb\u001b[39m\u001b[39m\"\u001b[39m \u001b[39mnot\u001b[39;00m \u001b[39min\u001b[39;00m ioargs\u001b[39m.\u001b[39mmode:\n\u001b[1;32m    855\u001b[0m         \u001b[39m# Encoding\u001b[39;00m\n\u001b[0;32m--> 856\u001b[0m         handle \u001b[39m=\u001b[39m \u001b[39mopen\u001b[39;49m(\n\u001b[1;32m    857\u001b[0m             handle,\n\u001b[1;32m    858\u001b[0m             ioargs\u001b[39m.\u001b[39;49mmode,\n\u001b[1;32m    859\u001b[0m             encoding\u001b[39m=\u001b[39;49mioargs\u001b[39m.\u001b[39;49mencoding,\n\u001b[1;32m    860\u001b[0m             errors\u001b[39m=\u001b[39;49merrors,\n\u001b[1;32m    861\u001b[0m             newline\u001b[39m=\u001b[39;49m\u001b[39m\"\u001b[39;49m\u001b[39m\"\u001b[39;49m,\n\u001b[1;32m    862\u001b[0m         )\n\u001b[1;32m    863\u001b[0m     \u001b[39melse\u001b[39;00m:\n\u001b[1;32m    864\u001b[0m         \u001b[39m# Binary mode\u001b[39;00m\n\u001b[1;32m    865\u001b[0m         handle \u001b[39m=\u001b[39m \u001b[39mopen\u001b[39m(handle, ioargs\u001b[39m.\u001b[39mmode)\n",
      "\u001b[0;31mFileNotFoundError\u001b[0m: [Errno 2] No such file or directory: 'experiment_results/protcnn_results/InterProUniprotPF03272prepared_test.fasta_protcnn_results.csv'"
     ]
    }
   ],
   "source": [
    "protcnn_results_testdata = pd.read_csv(\"experiment_results/protcnn_results/InterProUniprotPF03272prepared_test.fasta_protcnn_results.csv\")"
   ]
  },
  {
   "cell_type": "code",
   "execution_count": null,
   "metadata": {},
   "outputs": [
    {
     "data": {
      "text/html": [
       "<div>\n",
       "<style scoped>\n",
       "    .dataframe tbody tr th:only-of-type {\n",
       "        vertical-align: middle;\n",
       "    }\n",
       "\n",
       "    .dataframe tbody tr th {\n",
       "        vertical-align: top;\n",
       "    }\n",
       "\n",
       "    .dataframe thead th {\n",
       "        text-align: right;\n",
       "    }\n",
       "</style>\n",
       "<table border=\"1\" class=\"dataframe\">\n",
       "  <thead>\n",
       "    <tr style=\"text-align: right;\">\n",
       "      <th></th>\n",
       "      <th>Test Dataset</th>\n",
       "      <th>100</th>\n",
       "      <th>95</th>\n",
       "      <th>65</th>\n",
       "      <th>35</th>\n",
       "    </tr>\n",
       "  </thead>\n",
       "  <tbody>\n",
       "    <tr>\n",
       "      <th>Prompt-tuned model (ours)</th>\n",
       "      <td>80.8</td>\n",
       "      <td>2.9 ± 0.9</td>\n",
       "      <td>2.8 ± 1.3</td>\n",
       "      <td>2.2 ± 1.1</td>\n",
       "      <td>1.9 ± 0.6</td>\n",
       "    </tr>\n",
       "    <tr>\n",
       "      <th>Base model</th>\n",
       "      <td>80.8</td>\n",
       "      <td>0.0 ± 0.0</td>\n",
       "      <td>0.0 ± 0.0</td>\n",
       "      <td>0.0 ± 0.0</td>\n",
       "      <td>0.0 ± 0.0</td>\n",
       "    </tr>\n",
       "  </tbody>\n",
       "</table>\n",
       "</div>"
      ],
      "text/plain": [
       "                          Test Dataset        100         95         65  \\\n",
       "Prompt-tuned model (ours)         80.8  2.9 ± 0.9  2.8 ± 1.3  2.2 ± 1.1   \n",
       "Base model                        80.8  0.0 ± 0.0  0.0 ± 0.0  0.0 ± 0.0   \n",
       "\n",
       "                                  35  \n",
       "Prompt-tuned model (ours)  1.9 ± 0.6  \n",
       "Base model                 0.0 ± 0.0  "
      ]
     },
     "execution_count": 34,
     "metadata": {},
     "output_type": "execute_result"
    }
   ],
   "source": [
    "table_protcnn_comparison_clustering = generate_results_table_protcnn_comparison([100, 95, 65, 35], [\"Prompt-tuned model (ours)\"], [protcnn_results_clustering_100, protcnn_results_clustering_95, protcnn_results_clustering_65, protcnn_results_clustering_35], protcnn_results_testdata)\n",
    "table_protcnn_comparison_clustering.to_csv(\"experiment_results/final_tables/results_protcnn_clustering.csv\")\n",
    "table_protcnn_comparison_clustering"
   ]
  },
  {
   "cell_type": "code",
   "execution_count": 18,
   "metadata": {},
   "outputs": [],
   "source": [
    "protcnn_results_S = [pd.read_csv(f\"experiment_results/protcnn_results/prompt-tuning-clustered-100-RITA_s-fromvocab-True-seed-{i}-generated.fasta_protcnn_results_flexible_windowsize_stride1.csv\") for i in range(3)]\n",
    "protcnn_results_M = [pd.read_csv(f\"experiment_results/protcnn_results/prompt-tuning-clustered-100-RITA_m-fromvocab-True-seed-{i}-generated.fasta_protcnn_results_flexible_windowsize_stride1.csv\") for i in range(3)]\n",
    "protcnn_results_L = [pd.read_csv(f\"experiment_results/protcnn_results/prompt-tuning-clustered-100-RITA_l-fromvocab-True-seed-{i}-generated.fasta_protcnn_results_flexible_windowsize_stride1.csv\") for i in range(3)]"
   ]
  },
  {
   "cell_type": "code",
   "execution_count": 20,
   "metadata": {},
   "outputs": [],
   "source": [
    "protcnn_results_SBase = [pd.read_csv(f\"experiment_results/protcnn_results/basemodel-RITA_s-generated.fasta_protcnn_results_flexible_windowsize_stride1.csv\")]\n",
    "protcnn_results_MBase = [pd.read_csv(f\"experiment_results/protcnn_results/basemodel-RITA_m-generated.fasta_protcnn_results_flexible_windowsize_stride1.csv\")]\n",
    "protcnn_results_LBase = [pd.read_csv(f\"experiment_results/protcnn_results/basemodel-RITA_l-generated.fasta_protcnn_results_flexible_windowsize_stride1.csv\")]"
   ]
  },
  {
   "cell_type": "code",
   "execution_count": 21,
   "metadata": {},
   "outputs": [
    {
     "ename": "NameError",
     "evalue": "name 'protcnn_results_testdata' is not defined",
     "output_type": "error",
     "traceback": [
      "\u001b[0;31m---------------------------------------------------------------------------\u001b[0m",
      "\u001b[0;31mNameError\u001b[0m                                 Traceback (most recent call last)",
      "Cell \u001b[0;32mIn[21], line 1\u001b[0m\n\u001b[0;32m----> 1\u001b[0m table_protcnn_comparison_model_sizes \u001b[39m=\u001b[39m generate_results_table_protcnn_comparison([\u001b[39m\"\u001b[39m\u001b[39mS\u001b[39m\u001b[39m\"\u001b[39m, \u001b[39m\"\u001b[39m\u001b[39mM\u001b[39m\u001b[39m\"\u001b[39m, \u001b[39m\"\u001b[39m\u001b[39mL\u001b[39m\u001b[39m\"\u001b[39m], [\u001b[39m\"\u001b[39m\u001b[39mPrompt-tuned model (ours)\u001b[39m\u001b[39m\"\u001b[39m], [protcnn_results_S, protcnn_results_M, protcnn_results_L], protcnn_results_testdata)\n\u001b[1;32m      2\u001b[0m table_protcnn_comparison_model_sizes_base \u001b[39m=\u001b[39m generate_results_table_protcnn_comparison([\u001b[39m\"\u001b[39m\u001b[39mS\u001b[39m\u001b[39m\"\u001b[39m, \u001b[39m\"\u001b[39m\u001b[39mM\u001b[39m\u001b[39m\"\u001b[39m, \u001b[39m\"\u001b[39m\u001b[39mL\u001b[39m\u001b[39m\"\u001b[39m], [\u001b[39m\"\u001b[39m\u001b[39mBase model\u001b[39m\u001b[39m\"\u001b[39m], [protcnn_results_SBase, protcnn_results_MBase, protcnn_results_LBase], protcnn_results_testdata)\n",
      "\u001b[0;31mNameError\u001b[0m: name 'protcnn_results_testdata' is not defined"
     ]
    }
   ],
   "source": [
    "table_protcnn_comparison_model_sizes = generate_results_table_protcnn_comparison([\"S\", \"M\", \"L\"], [\"Prompt-tuned model (ours)\"], [protcnn_results_S, protcnn_results_M, protcnn_results_L], protcnn_results_testdata)\n",
    "table_protcnn_comparison_model_sizes_base = generate_results_table_protcnn_comparison([\"S\", \"M\", \"L\"], [\"Base model\"], [protcnn_results_SBase, protcnn_results_MBase, protcnn_results_LBase], protcnn_results_testdata)\n"
   ]
  },
  {
   "cell_type": "code",
   "execution_count": null,
   "metadata": {},
   "outputs": [
    {
     "data": {
      "text/html": [
       "<div>\n",
       "<style scoped>\n",
       "    .dataframe tbody tr th:only-of-type {\n",
       "        vertical-align: middle;\n",
       "    }\n",
       "\n",
       "    .dataframe tbody tr th {\n",
       "        vertical-align: top;\n",
       "    }\n",
       "\n",
       "    .dataframe thead th {\n",
       "        text-align: right;\n",
       "    }\n",
       "</style>\n",
       "<table border=\"1\" class=\"dataframe\">\n",
       "  <thead>\n",
       "    <tr style=\"text-align: right;\">\n",
       "      <th></th>\n",
       "      <th>Test Dataset</th>\n",
       "      <th>S</th>\n",
       "      <th>M</th>\n",
       "      <th>L</th>\n",
       "    </tr>\n",
       "  </thead>\n",
       "  <tbody>\n",
       "    <tr>\n",
       "      <th>Prompt-tuned model (ours)</th>\n",
       "      <td>80.8</td>\n",
       "      <td>2.9 ± 0.9</td>\n",
       "      <td>2.6 ± 0.7</td>\n",
       "      <td>1.2 ± 0.2</td>\n",
       "    </tr>\n",
       "    <tr>\n",
       "      <th>Base model</th>\n",
       "      <td>80.8</td>\n",
       "      <td>0.0 ± 0.0</td>\n",
       "      <td>0.0 ± 0.0</td>\n",
       "      <td>1.0 ± 0.0</td>\n",
       "    </tr>\n",
       "  </tbody>\n",
       "</table>\n",
       "</div>"
      ],
      "text/plain": [
       "                          Test Dataset          S          M          L\n",
       "Prompt-tuned model (ours)         80.8  2.9 ± 0.9  2.6 ± 0.7  1.2 ± 0.2\n",
       "Base model                        80.8  0.0 ± 0.0  0.0 ± 0.0  1.0 ± 0.0"
      ]
     },
     "execution_count": 32,
     "metadata": {},
     "output_type": "execute_result"
    }
   ],
   "source": [
    "table_protcnn_comparison_model_sizes_all = pd.concat([table_protcnn_comparison_model_sizes, table_protcnn_comparison_model_sizes_base])\n",
    "table_protcnn_comparison_model_sizes_all.to_csv(\"experiment_results/final_tables/results_protcnn_model_sizes.csv\")\n",
    "table_protcnn_comparison_model_sizes_all"
   ]
  }
 ],
 "metadata": {
  "kernelspec": {
   "display_name": "Python 3",
   "language": "python",
   "name": "python3"
  },
  "language_info": {
   "codemirror_mode": {
    "name": "ipython",
    "version": 3
   },
   "file_extension": ".py",
   "mimetype": "text/x-python",
   "name": "python",
   "nbconvert_exporter": "python",
   "pygments_lexer": "ipython3",
   "version": "3.10.8"
  },
  "vscode": {
   "interpreter": {
    "hash": "e7370f93d1d0cde622a1f8e1c04877d8463912d04d973331ad4851f04de6915a"
   }
  }
 },
 "nbformat": 4,
 "nbformat_minor": 4
}
