{
 "cells": [
  {
   "cell_type": "code",
   "execution_count": 2,
   "metadata": {},
   "outputs": [],
   "source": [
    "import matplotlib.pyplot as plt\n",
    "import os\n",
    "import numpy as np\n",
    "import pandas as pd\n",
    "import glob\n",
    "\n",
    "TESTSET_SIZE = 193"
   ]
  },
  {
   "cell_type": "code",
   "execution_count": 2,
   "metadata": {},
   "outputs": [
    {
     "data": {
      "text/plain": [
       "'/hpi/fs00/home/andrea.nathansen/protein-prompt-tuning'"
      ]
     },
     "execution_count": 2,
     "metadata": {},
     "output_type": "execute_result"
    }
   ],
   "source": [
    "os.getcwd()\n",
    "os.chdir(\"..\")\n",
    "os.getcwd()"
   ]
  },
  {
   "cell_type": "code",
   "execution_count": 3,
   "metadata": {},
   "outputs": [],
   "source": [
    "def get_number_hmmer_recognized_sequences(hmmer_result_filepath):\n",
    "    # The resulting tabular files are in a format that they can't be read\n",
    "    # as a normal dataframe. So we count the lines that do not start with #\n",
    "    # and are not empty, because those are the entries of recognized sequences\n",
    "    with open(hmmer_result_filepath, \"r\") as f:\n",
    "        lines = f.readlines()\n",
    "        recognized_sequences = 0\n",
    "        for line in lines:\n",
    "            if not (line.startswith('#') or line == ''):\n",
    "                recognized_sequences += 1\n",
    "    return recognized_sequences"
   ]
  },
  {
   "cell_type": "code",
   "execution_count": 4,
   "metadata": {},
   "outputs": [],
   "source": [
    "def get_percentage_hmmer_recognized_sequences_testset_size(hmmer_result_filepath):\n",
    "    # assuming a dataset with the same size as the testset\n",
    "    return get_number_hmmer_recognized_sequences(hmmer_result_filepath) / TESTSET_SIZE * 100"
   ]
  },
  {
   "cell_type": "code",
   "execution_count": 5,
   "metadata": {},
   "outputs": [],
   "source": [
    "def get_percentage_hmmer_recognized_sequences_prompttuning(hmmer_result_filepaths):\n",
    "    percentages_recognized = np.array([get_percentage_hmmer_recognized_sequences_testset_size(filepath) for filepath in hmmer_result_filepaths])\n",
    "    return percentages_recognized.mean(), percentages_recognized.std()"
   ]
  },
  {
   "cell_type": "code",
   "execution_count": 6,
   "metadata": {},
   "outputs": [],
   "source": [
    "def get_perplexities_ablation(result_df):\n",
    "    # Aggregate over runs with different random seeds for prompt-tuned models.\n",
    "    # Ablation is done on validation set.\n",
    "    return result_df[\"val\"].mean(), result_df[\"val\"].std()"
   ]
  },
  {
   "cell_type": "code",
   "execution_count": 7,
   "metadata": {},
   "outputs": [],
   "source": [
    "def get_perplexities_trainvaltest(result_df):\n",
    "    # Aggregate over runs with different random seeds for prompt-tuned models.\n",
    "    # Results for training, validation and test set\n",
    "    return result_df[\"train\"].mean(), result_df[\"train\"].std(), result_df[\"val\"].mean(), result_df[\"val\"].std(), result_df[\"test\"].mean(), result_df[\"test\"].std()"
   ]
  },
  {
   "cell_type": "code",
   "execution_count": 8,
   "metadata": {},
   "outputs": [],
   "source": [
    "def get_perplexities_comparison_to_basemodel(result_df):\n",
    "    # Aggregate over runs with different random seeds for prompt-tuned models.\n",
    "    # Base model model wasn't affected by different random seeds.\n",
    "    return result_df[\"prompt_tuned\"].mean(), result_df[\"prompt_tuned\"].std(), result_df[\"base\"][0]"
   ]
  },
  {
   "cell_type": "code",
   "execution_count": 9,
   "metadata": {},
   "outputs": [],
   "source": [
    "def get_testset_perplexities_from_trainvaltest_finetuned(result_df):\n",
    "    # Finetuned model has only one run per configuration\n",
    "    return result_df[\"test\"].iloc[0]"
   ]
  },
  {
   "cell_type": "code",
   "execution_count": 10,
   "metadata": {},
   "outputs": [],
   "source": [
    "def get_results_protcnn_family_percentage_single_df(result_df):\n",
    "    # The percentage of proteins that were classified as the family\n",
    "    return (result_df[\"is_family\"].sum() / len(result_df[\"is_family\"])) * 100"
   ]
  },
  {
   "cell_type": "code",
   "execution_count": 11,
   "metadata": {},
   "outputs": [],
   "source": [
    "def get_results_protcnn_precision_recall_metrics(positives_df, negative_dfs):\n",
    "    # Precision and recall for classification of the family, for a dataset\n",
    "    # that actually belongs to that family and negative control datasets\n",
    "    negative_df_concatenated = pd.concat([df for df in negative_dfs])\n",
    "    true_positives = positives_df[\"is_family\"].sum()\n",
    "    false_negatives = len(positives_df) - true_positives\n",
    "    false_positives = negative_df_concatenated[\"is_family\"].sum()\n",
    "    precision = true_positives / (true_positives + false_positives)\n",
    "    recall = true_positives / (true_positives + false_negatives)\n",
    "    return precision, recall"
   ]
  },
  {
   "cell_type": "code",
   "execution_count": 12,
   "metadata": {},
   "outputs": [],
   "source": [
    "def get_results_protcnn_family_percentage_aggregated(result_dfs):\n",
    "    percentages = [get_results_protcnn_family_percentage_single_df(df) for df in result_dfs]\n",
    "    return np.mean(percentages), np.std(percentages)"
   ]
  },
  {
   "cell_type": "code",
   "execution_count": 13,
   "metadata": {},
   "outputs": [],
   "source": [
    "def get_results_protcnn_family_percentage_concatenated(result_dfs):\n",
    "    percentage = get_results_protcnn_family_percentage_single_df(pd.concat([df for df in result_dfs]))\n",
    "    return percentage"
   ]
  },
  {
   "cell_type": "code",
   "execution_count": 14,
   "metadata": {},
   "outputs": [],
   "source": [
    "def get_peak_ram_usage(result_df):\n",
    "    return result_df[\"total_peak\"].max()"
   ]
  },
  {
   "cell_type": "code",
   "execution_count": 15,
   "metadata": {},
   "outputs": [],
   "source": [
    "def generate_results_table_protcnn_datasets(column_names, row_names, result_dfs_protcnn_configurations):\n",
    "    table=pd.DataFrame(columns=column_names, index=row_names)\n",
    "\n",
    "    for j, result_dfs_protcnn_datasets in enumerate(result_dfs_protcnn_configurations):\n",
    "        for i, result_dfs_protcnn_dataset in enumerate(result_dfs_protcnn_datasets):\n",
    "            # results for datasets might be split into multiple dataframes for sets with large sequences\n",
    "            if isinstance(result_dfs_protcnn_dataset, list):\n",
    "                r_dataset = get_results_protcnn_family_percentage_concatenated(result_dfs_protcnn_dataset)\n",
    "            else:\n",
    "                r_dataset = get_results_protcnn_family_percentage_single_df(result_dfs_protcnn_dataset)\n",
    "            table[column_names[i]].loc[row_names[j]] = f\"{np.round(r_dataset, decimals=1)}\"\n",
    "    return table"
   ]
  },
  {
   "cell_type": "code",
   "execution_count": 16,
   "metadata": {},
   "outputs": [],
   "source": [
    "def generate_precision_recall_table_protcnn_datasets(row_names, result_dfs_positive_protcnn_configurations, result_dfs_negative_protcnn_configurations):\n",
    "    table=pd.DataFrame(columns=[\"Precision\", \"Recall\"], index=row_names)\n",
    "    \n",
    "    for i, result_dfs_protcnn_datasets in enumerate(zip(result_dfs_positive_protcnn_configurations, result_dfs_negative_protcnn_configurations)):\n",
    "        result_df_positive_datasets, result_dfs_negative_datasets = result_dfs_protcnn_datasets\n",
    "        precision, recall = get_results_protcnn_precision_recall_metrics(result_df_positive_datasets, result_dfs_negative_datasets)\n",
    "        table.loc[row_names[i]] = {\"Precision\": f\"{np.round(precision, decimals=2)}\", \"Recall\": f\"{np.round(recall, decimals=2)}\"}\n",
    "    return table"
   ]
  },
  {
   "cell_type": "code",
   "execution_count": 17,
   "metadata": {},
   "outputs": [],
   "source": [
    "def generate_results_table_protcnn_comparison(column_names, result_dfs_protcnn_prompttuned, result_dfs_protcnn_finetuned, result_dfs_protcnn_basemodel):\n",
    "    table=pd.DataFrame(columns=column_names, index=[\"Prompt-tuned model (ours)\", \"Finetuned model\", \"Base model\"])\n",
    "    for i, dfs in enumerate(zip(result_dfs_protcnn_prompttuned, result_dfs_protcnn_finetuned, result_dfs_protcnn_basemodel)):\n",
    "        result_dfs_protcnn_prompttuned_seeds, result_df_protcnn_finetuned, result_df_protcnn_basemodel = dfs\n",
    "        r_prompttuned_mean, r_prompttuned_std = get_results_protcnn_family_percentage_aggregated(result_dfs_protcnn_prompttuned_seeds)\n",
    "        r_finetuned = get_results_protcnn_family_percentage_single_df(result_df_protcnn_finetuned)\n",
    "        r_basemodel = get_results_protcnn_family_percentage_single_df(result_df_protcnn_basemodel)\n",
    "        table[column_names[i]] = [f\"{np.round(r_prompttuned_mean, decimals=2)} ± {np.round(r_prompttuned_std, decimals=2)}\",\n",
    "                                  np.round(r_finetuned, decimals=2),\n",
    "                                  np.round(r_basemodel, decimals=2)]\n",
    "    return table"
   ]
  },
  {
   "cell_type": "code",
   "execution_count": 34,
   "metadata": {},
   "outputs": [],
   "source": [
    "def generate_results_table_protcnn_for_clustering_comparison(column_names, result_dfs_protcnn_prompttuned):\n",
    "    table=pd.DataFrame(columns=column_names, index=[\"Prompt-tuned model (ours)\"])\n",
    "    for i, dfs in enumerate(result_dfs_protcnn_prompttuned):\n",
    "        r_prompttuned_mean, r_prompttuned_std = get_results_protcnn_family_percentage_aggregated(dfs)\n",
    "        table[column_names[i]] = [f\"{np.round(r_prompttuned_mean, decimals=2)} ± {np.round(r_prompttuned_std, decimals=2)}\"]\n",
    "    return table"
   ]
  },
  {
   "cell_type": "code",
   "execution_count": 18,
   "metadata": {},
   "outputs": [],
   "source": [
    "def generate_perplexities_table_for_clustering_comparison(column_names, result_dfs_clusterings):\n",
    "    table=pd.DataFrame(columns=column_names, index=[\"Train\", \"Validation\", \"Test\"])\n",
    "    for i, df in enumerate(result_dfs_clusterings):\n",
    "            r_train_mean, r_train_std, r_val_mean, r_val_std, r_test_mean, r_test_std, = get_perplexities_trainvaltest(df)\n",
    "            table[column_names[i]] = [f\"{np.round(r_train_mean, decimals=2)} ± {np.round(r_train_std, decimals=2)}\", f\"{np.round(r_val_mean, decimals=2)} ± {np.round(r_val_std, decimals=2)}\", f\"{np.round(r_test_mean, decimals=2)} ± {np.round(r_test_std, decimals=2)}\"]\n",
    "    return table"
   ]
  },
  {
   "cell_type": "code",
   "execution_count": 19,
   "metadata": {},
   "outputs": [],
   "source": [
    "def generate_perplexities_table_for_ablation_study(column_names, row_names, result_dfs_ablations):\n",
    "    table=pd.DataFrame(columns=column_names, index=row_names)\n",
    "    for j, result_dfs_for_ablation in enumerate(result_dfs_ablations):\n",
    "        for i, df in enumerate(result_dfs_for_ablation):\n",
    "            r_mean, r_std = get_perplexities_ablation(df)\n",
    "            table[column_names[i]][row_names[j]] = f\"{np.round(r_mean, decimals=2)} ± {np.round(r_std, decimals=2)}\"\n",
    "    return table"
   ]
  },
  {
   "cell_type": "code",
   "execution_count": 20,
   "metadata": {},
   "outputs": [],
   "source": [
    "def generate_perplexities_table_for_comparison_to_basemodel(column_names, result_dfs):\n",
    "    table=pd.DataFrame(columns=column_names, index=[\"Prompt-tuned model (ours)\", \"Base model\"])\n",
    "    for i, df in enumerate(result_dfs):\n",
    "        r_prompttuned_mean, r_prompttuned_std, r_basemodel = get_perplexities_comparison_to_basemodel(df)\n",
    "        table[column_names[i]] = [f\"{np.round(r_prompttuned_mean, decimals=2)} ± {np.round(r_prompttuned_std, decimals=2)}\", np.round(r_basemodel, decimals=2)]\n",
    "    return table"
   ]
  },
  {
   "cell_type": "code",
   "execution_count": 21,
   "metadata": {},
   "outputs": [],
   "source": [
    "def generate_perplexities_table_comparison_prompttuned_finetuned_basemodel(column_names, result_dfs_prompttuned_basemodel, result_dfs_finetuned):\n",
    "    table=pd.DataFrame(columns=column_names, index=[\"Prompt-tuned model (ours)\", \"Finetuned model\", \"Base model\"])\n",
    "    for i, dfs in enumerate(zip(result_dfs_prompttuned_basemodel, result_dfs_finetuned)):\n",
    "        result_df_prompttuned_basemodel, result_df_finetuned = dfs\n",
    "        r_prompttuned_mean, r_prompttuned_std, r_basemodel = get_perplexities_comparison_to_basemodel(result_df_prompttuned_basemodel)\n",
    "        r_finetuned = get_testset_perplexities_from_trainvaltest_finetuned(result_df_finetuned)\n",
    "        table[column_names[i]] = [f\"{np.round(r_prompttuned_mean, decimals=2)} ± {np.round(r_prompttuned_std, decimals=2)}\",\n",
    "                                  np.round(r_finetuned, decimals=2),\n",
    "                                  np.round(r_basemodel, decimals=2)]\n",
    "    return table"
   ]
  },
  {
   "cell_type": "code",
   "execution_count": 22,
   "metadata": {},
   "outputs": [],
   "source": [
    "def generate_hmmer_results_table_comparison_prompttuned_finetuned_basemodel(column_names,\n",
    "                                                                            hmmer_result_paths_prompttuned,\n",
    "                                                                            hmmer_result_paths_basemodel,\n",
    "                                                                            hmmer_result_paths_finetuned):\n",
    "    table=pd.DataFrame(columns=column_names, index=[\"Prompt-tuned model (ours)\", \"Finetuned model\", \"Base model\"])\n",
    "    for i, hmmer_result_paths in enumerate(zip(hmmer_result_paths_prompttuned, hmmer_result_paths_basemodel, hmmer_result_paths_finetuned)):\n",
    "        rp_prompttuned, rp_basemodel, rp_finetuned = hmmer_result_paths\n",
    "        r_prompttuned_mean, r_prompttuned_std = get_percentage_hmmer_recognized_sequences_prompttuning(rp_prompttuned)\n",
    "        r_basemodel = get_percentage_hmmer_recognized_sequences_testset_size(rp_basemodel)\n",
    "        r_finetuned = get_percentage_hmmer_recognized_sequences_testset_size(rp_finetuned)\n",
    "        table[column_names[i]] = [f\"{np.round(r_prompttuned_mean, decimals=2)} ± {np.round(r_prompttuned_std, decimals=2)}\",\n",
    "                                  np.round(r_finetuned, decimals=2),\n",
    "                                  np.round(r_basemodel, decimals=2)]\n",
    "    return table\n",
    "    "
   ]
  },
  {
   "cell_type": "code",
   "execution_count": 23,
   "metadata": {},
   "outputs": [],
   "source": [
    "def generate_ram_usages_table_comparison_prompttuned_finetuned(column_names,\n",
    "                                                                            result_dfs_prompttuned,\n",
    "                                                                            result_dfs_finetuned):\n",
    "    table=pd.DataFrame(columns=column_names, index=[\"Prompt-tuned model (ours)\", \"Finetuned model\"])\n",
    "    for i, dfs in enumerate(zip(result_dfs_prompttuned, result_dfs_finetuned)):\n",
    "        result_df_prompttuned, result_df_finetuned = dfs\n",
    "        r_prompttuned = get_peak_ram_usage(result_df_prompttuned)\n",
    "        r_finetuned = get_peak_ram_usage(result_df_finetuned)\n",
    "        table[column_names[i]] = [r_prompttuned,\n",
    "                                  r_finetuned]\n",
    "    return table"
   ]
  },
  {
   "attachments": {},
   "cell_type": "markdown",
   "metadata": {},
   "source": [
    "# Results of prompt tuning (with defaults) for all model sizes, comparison to base model and finetuned model"
   ]
  },
  {
   "cell_type": "code",
   "execution_count": 16,
   "metadata": {},
   "outputs": [],
   "source": [
    "test_results_defaults_S = pd.read_csv(\"experiment_results/perplexities/prompt-tuning-clustered-100-RITA_s-fromvocab-True-test_perplexity_comparison.csv\")\n",
    "test_results_defaults_M = pd.read_csv(\"experiment_results/perplexities/prompt-tuning-clustered-100-RITA_m-fromvocab-True-test_perplexity_comparison.csv\")\n",
    "test_results_defaults_L = pd.read_csv(\"experiment_results/perplexities/prompt-tuning-clustered-100-RITA_l-fromvocab-True-test_perplexity_comparison.csv\")\n",
    "test_results_defaults_XL = pd.read_csv(\"experiment_results/perplexities/prompt-tuning-clustered-100-RITA_xl-fromvocab-True-test_perplexity_comparison.csv\")"
   ]
  },
  {
   "cell_type": "code",
   "execution_count": 20,
   "metadata": {},
   "outputs": [],
   "source": [
    "test_results_finetuned_S = pd.read_csv(\"experiment_results/perplexities/finetuned-RITA_s-trainvaltest_comparison.csv\")\n",
    "test_results_finetuned_M = pd.read_csv(\"experiment_results/perplexities/finetuned-RITA_m-trainvaltest_comparison.csv\")\n",
    "test_results_finetuned_L = pd.read_csv(\"experiment_results/perplexities/finetuned-RITA_l-trainvaltest_comparison.csv\")\n",
    "test_results_finetuned_XL = pd.read_csv(\"experiment_results/perplexities/finetuned-RITA_xl-trainvaltest_comparison.csv\")"
   ]
  },
  {
   "cell_type": "code",
   "execution_count": 33,
   "metadata": {},
   "outputs": [
    {
     "data": {
      "text/html": [
       "<div>\n",
       "<style scoped>\n",
       "    .dataframe tbody tr th:only-of-type {\n",
       "        vertical-align: middle;\n",
       "    }\n",
       "\n",
       "    .dataframe tbody tr th {\n",
       "        vertical-align: top;\n",
       "    }\n",
       "\n",
       "    .dataframe thead th {\n",
       "        text-align: right;\n",
       "    }\n",
       "</style>\n",
       "<table border=\"1\" class=\"dataframe\">\n",
       "  <thead>\n",
       "    <tr style=\"text-align: right;\">\n",
       "      <th></th>\n",
       "      <th>S</th>\n",
       "      <th>M</th>\n",
       "      <th>L</th>\n",
       "      <th>XL</th>\n",
       "    </tr>\n",
       "  </thead>\n",
       "  <tbody>\n",
       "    <tr>\n",
       "      <th>Prompt-tuned model (ours)</th>\n",
       "      <td>8.73 ± 0.1</td>\n",
       "      <td>7.25 ± 0.19</td>\n",
       "      <td>6.01 ± 0.5</td>\n",
       "      <td>5.96 ± 0.72</td>\n",
       "    </tr>\n",
       "    <tr>\n",
       "      <th>Finetuned model</th>\n",
       "      <td>1.49</td>\n",
       "      <td>1.39</td>\n",
       "      <td>1.37</td>\n",
       "      <td>1.38</td>\n",
       "    </tr>\n",
       "    <tr>\n",
       "      <th>Base model</th>\n",
       "      <td>13.93</td>\n",
       "      <td>12.31</td>\n",
       "      <td>9.65</td>\n",
       "      <td>6.98</td>\n",
       "    </tr>\n",
       "  </tbody>\n",
       "</table>\n",
       "</div>"
      ],
      "text/plain": [
       "                                    S            M           L           XL\n",
       "Prompt-tuned model (ours)  8.73 ± 0.1  7.25 ± 0.19  6.01 ± 0.5  5.96 ± 0.72\n",
       "Finetuned model                  1.49         1.39        1.37         1.38\n",
       "Base model                      13.93        12.31        9.65         6.98"
      ]
     },
     "execution_count": 33,
     "metadata": {},
     "output_type": "execute_result"
    }
   ],
   "source": [
    "table_defaults_all_sizes = generate_perplexities_table_comparison_prompttuned_finetuned_basemodel([\"S\", \"M\", \"L\", \"XL\"], [test_results_defaults_S, test_results_defaults_M, test_results_defaults_L, test_results_defaults_XL],\n",
    "                                                                              [test_results_finetuned_S, test_results_finetuned_M, test_results_finetuned_L, test_results_finetuned_XL])\n",
    "table_defaults_all_sizes.to_csv(\"experiment_results/final_tables/results_perplexity_model_sizes.csv\")\n",
    "table_defaults_all_sizes"
   ]
  },
  {
   "attachments": {},
   "cell_type": "markdown",
   "metadata": {},
   "source": [
    "# Results for ablation study random uniform init VS from vocab"
   ]
  },
  {
   "cell_type": "code",
   "execution_count": 24,
   "metadata": {},
   "outputs": [],
   "source": [
    "trainvaltest_results_fromvocab_S = pd.read_csv(\"experiment_results/perplexities/prompt-tuning-clustered-100-RITA_s-fromvocab-True-trainvaltest_comparison.csv\")\n",
    "trainvaltest_results_fromvocab_M = pd.read_csv(\"experiment_results/perplexities/prompt-tuning-clustered-100-RITA_m-fromvocab-True-trainvaltest_comparison.csv\")"
   ]
  },
  {
   "cell_type": "code",
   "execution_count": 25,
   "metadata": {},
   "outputs": [],
   "source": [
    "trainvaltest_results_randomuniform_S = pd.read_csv(\"experiment_results/perplexities/prompt-tuning-clustered-100_s_random_init-RITA_s-fromvocab-False-trainvaltest_comparison.csv\")\n",
    "trainvaltest_results_randomuniform_M = pd.read_csv(\"experiment_results/perplexities/prompt-tuning-clustered-100_m_random_init-RITA_m-fromvocab-False-trainvaltest_comparison.csv\")"
   ]
  },
  {
   "cell_type": "code",
   "execution_count": 26,
   "metadata": {},
   "outputs": [
    {
     "data": {
      "text/html": [
       "<div>\n",
       "<style scoped>\n",
       "    .dataframe tbody tr th:only-of-type {\n",
       "        vertical-align: middle;\n",
       "    }\n",
       "\n",
       "    .dataframe tbody tr th {\n",
       "        vertical-align: top;\n",
       "    }\n",
       "\n",
       "    .dataframe thead th {\n",
       "        text-align: right;\n",
       "    }\n",
       "</style>\n",
       "<table border=\"1\" class=\"dataframe\">\n",
       "  <thead>\n",
       "    <tr style=\"text-align: right;\">\n",
       "      <th></th>\n",
       "      <th>S</th>\n",
       "      <th>M</th>\n",
       "    </tr>\n",
       "  </thead>\n",
       "  <tbody>\n",
       "    <tr>\n",
       "      <th>Sampled Vocab</th>\n",
       "      <td>8.21 ± 0.08</td>\n",
       "      <td>6.8 ± 0.17</td>\n",
       "    </tr>\n",
       "    <tr>\n",
       "      <th>Random Uniform</th>\n",
       "      <td>8.18 ± 0.19</td>\n",
       "      <td>7.05 ± 0.33</td>\n",
       "    </tr>\n",
       "  </tbody>\n",
       "</table>\n",
       "</div>"
      ],
      "text/plain": [
       "                          S            M\n",
       "Sampled Vocab   8.21 ± 0.08   6.8 ± 0.17\n",
       "Random Uniform  8.18 ± 0.19  7.05 ± 0.33"
      ]
     },
     "execution_count": 26,
     "metadata": {},
     "output_type": "execute_result"
    }
   ],
   "source": [
    "table_ablation_study = generate_perplexities_table_for_ablation_study([\"S\", \"M\"], [\"Sampled Vocab\", \"Random Uniform\"],[[trainvaltest_results_fromvocab_S, trainvaltest_results_fromvocab_M], [trainvaltest_results_randomuniform_S, trainvaltest_results_randomuniform_M]])\n",
    "table_ablation_study.to_csv(\"experiment_results/final_tables/results_perplexity_ablation_study.csv\")\n",
    "table_ablation_study"
   ]
  },
  {
   "attachments": {},
   "cell_type": "markdown",
   "metadata": {},
   "source": [
    "# Results for different clustering sequence similarity thresholds"
   ]
  },
  {
   "cell_type": "code",
   "execution_count": 17,
   "metadata": {},
   "outputs": [],
   "source": [
    "trainvaltest_results_clustering_100 = pd.read_csv(\"experiment_results/perplexities/prompt-tuning-clustered-100-RITA_s-fromvocab-True-trainvaltest_comparison.csv\")\n",
    "trainvaltest_results_clustering_95 = pd.read_csv(\"experiment_results/perplexities/prompt-tuning-clustered-95-RITA_s-fromvocab-True-trainvaltest_comparison.csv\")\n",
    "trainvaltest_results_clustering_65 = pd.read_csv(\"experiment_results/perplexities/prompt-tuning-clustered-65-RITA_s-fromvocab-True-trainvaltest_comparison.csv\")\n",
    "trainvaltest_results_clustering_35 = pd.read_csv(\"experiment_results/perplexities/prompt-tuning-clustered-35-RITA_s-fromvocab-True-trainvaltest_comparison.csv\")"
   ]
  },
  {
   "cell_type": "code",
   "execution_count": 18,
   "metadata": {},
   "outputs": [
    {
     "data": {
      "text/html": [
       "<div>\n",
       "<style scoped>\n",
       "    .dataframe tbody tr th:only-of-type {\n",
       "        vertical-align: middle;\n",
       "    }\n",
       "\n",
       "    .dataframe tbody tr th {\n",
       "        vertical-align: top;\n",
       "    }\n",
       "\n",
       "    .dataframe thead th {\n",
       "        text-align: right;\n",
       "    }\n",
       "</style>\n",
       "<table border=\"1\" class=\"dataframe\">\n",
       "  <thead>\n",
       "    <tr style=\"text-align: right;\">\n",
       "      <th></th>\n",
       "      <th>100</th>\n",
       "      <th>95</th>\n",
       "      <th>65</th>\n",
       "      <th>35</th>\n",
       "    </tr>\n",
       "  </thead>\n",
       "  <tbody>\n",
       "    <tr>\n",
       "      <th>Train</th>\n",
       "      <td>8.25 ± 0.08</td>\n",
       "      <td>10.13 ± 0.03</td>\n",
       "      <td>11.72 ± 0.1</td>\n",
       "      <td>11.66 ± 0.12</td>\n",
       "    </tr>\n",
       "    <tr>\n",
       "      <th>Validation</th>\n",
       "      <td>8.21 ± 0.08</td>\n",
       "      <td>9.65 ± 0.02</td>\n",
       "      <td>13.08 ± 0.1</td>\n",
       "      <td>12.15 ± 0.06</td>\n",
       "    </tr>\n",
       "    <tr>\n",
       "      <th>Test</th>\n",
       "      <td>8.73 ± 0.1</td>\n",
       "      <td>9.64 ± 0.02</td>\n",
       "      <td>12.67 ± 0.08</td>\n",
       "      <td>13.49 ± 0.07</td>\n",
       "    </tr>\n",
       "  </tbody>\n",
       "</table>\n",
       "</div>"
      ],
      "text/plain": [
       "                    100           95            65            35 \n",
       "Train       8.25 ± 0.08  10.13 ± 0.03   11.72 ± 0.1  11.66 ± 0.12\n",
       "Validation  8.21 ± 0.08   9.65 ± 0.02   13.08 ± 0.1  12.15 ± 0.06\n",
       "Test         8.73 ± 0.1   9.64 ± 0.02  12.67 ± 0.08  13.49 ± 0.07"
      ]
     },
     "execution_count": 18,
     "metadata": {},
     "output_type": "execute_result"
    }
   ],
   "source": [
    "table_trainvaltest_clustering = generate_perplexities_table_for_clustering_comparison([100, 95, 65, 35], [trainvaltest_results_clustering_100,trainvaltest_results_clustering_95, trainvaltest_results_clustering_65, trainvaltest_results_clustering_35])\n",
    "table_trainvaltest_clustering.to_csv(\"experiment_results/final_tables/results_perplexity_clustering_trainvaltest.csv\")\n",
    "table_trainvaltest_clustering"
   ]
  },
  {
   "cell_type": "code",
   "execution_count": 19,
   "metadata": {},
   "outputs": [],
   "source": [
    "basemodel_results_clustering_100 = pd.read_csv(\"experiment_results/perplexities/prompt-tuning-clustered-100-RITA_s-fromvocab-True-test_perplexity_comparison.csv\")\n",
    "basemodel_results_clustering_95 = pd.read_csv(\"experiment_results/perplexities/prompt-tuning-clustered-95-RITA_s-fromvocab-True-test_perplexity_comparison.csv\")\n",
    "basemodel_results_clustering_65 = pd.read_csv(\"experiment_results/perplexities/prompt-tuning-clustered-65-RITA_s-fromvocab-True-test_perplexity_comparison.csv\")\n",
    "basemodel_results_clustering_35 = pd.read_csv(\"experiment_results/perplexities/prompt-tuning-clustered-35-RITA_s-fromvocab-True-test_perplexity_comparison.csv\")"
   ]
  },
  {
   "cell_type": "code",
   "execution_count": 20,
   "metadata": {},
   "outputs": [
    {
     "data": {
      "text/html": [
       "<div>\n",
       "<style scoped>\n",
       "    .dataframe tbody tr th:only-of-type {\n",
       "        vertical-align: middle;\n",
       "    }\n",
       "\n",
       "    .dataframe tbody tr th {\n",
       "        vertical-align: top;\n",
       "    }\n",
       "\n",
       "    .dataframe thead th {\n",
       "        text-align: right;\n",
       "    }\n",
       "</style>\n",
       "<table border=\"1\" class=\"dataframe\">\n",
       "  <thead>\n",
       "    <tr style=\"text-align: right;\">\n",
       "      <th></th>\n",
       "      <th>100</th>\n",
       "      <th>95</th>\n",
       "      <th>65</th>\n",
       "      <th>35</th>\n",
       "    </tr>\n",
       "  </thead>\n",
       "  <tbody>\n",
       "    <tr>\n",
       "      <th>Prompt-tuned model (ours)</th>\n",
       "      <td>8.73 ± 0.1</td>\n",
       "      <td>9.64 ± 0.02</td>\n",
       "      <td>12.67 ± 0.08</td>\n",
       "      <td>13.49 ± 0.07</td>\n",
       "    </tr>\n",
       "    <tr>\n",
       "      <th>Base model</th>\n",
       "      <td>13.93</td>\n",
       "      <td>12.99</td>\n",
       "      <td>13.83</td>\n",
       "      <td>14.24</td>\n",
       "    </tr>\n",
       "  </tbody>\n",
       "</table>\n",
       "</div>"
      ],
      "text/plain": [
       "                                  100          95            65            35 \n",
       "Prompt-tuned model (ours)  8.73 ± 0.1  9.64 ± 0.02  12.67 ± 0.08  13.49 ± 0.07\n",
       "Base model                      13.93        12.99         13.83         14.24"
      ]
     },
     "execution_count": 20,
     "metadata": {},
     "output_type": "execute_result"
    }
   ],
   "source": [
    "table_basemodelcomparison_clustering = generate_perplexities_table_for_comparison_to_basemodel([100, 95, 65, 35], [basemodel_results_clustering_100, basemodel_results_clustering_95, basemodel_results_clustering_65, basemodel_results_clustering_35])\n",
    "table_basemodelcomparison_clustering.to_csv(\"experiment_results/final_tables/results_perplexity_clustering_basemodelcomparison.csv\")\n",
    "table_basemodelcomparison_clustering"
   ]
  },
  {
   "attachments": {},
   "cell_type": "markdown",
   "metadata": {},
   "source": [
    "# Results for protCNN predictions"
   ]
  },
  {
   "attachments": {},
   "cell_type": "markdown",
   "metadata": {},
   "source": [
    "## Results for test dataset and negative control datasets\n",
    "For different ProtCNN configurations"
   ]
  },
  {
   "cell_type": "code",
   "execution_count": 62,
   "metadata": {},
   "outputs": [],
   "source": [
    "protcnn_results_testset_single = pd.read_csv(\"experiment_results/protcnn-eval_single/InterProUniprotPF03272prepared_test.fasta_protcnn_results_flexible_windowsize_stride1_threshold0.0.csv\")\n",
    "protcnn_results_otherfamilies_single = pd.read_csv(\"experiment_results/protcnn-eval_single/other-families.fasta_protcnn_results_flexible_windowsize_stride1.csv\")\n",
    "protcnn_results_shuffled_single = pd.read_csv(\"experiment_results/protcnn-eval_single/esl-shuffled.fasta_protcnn_results_flexible_windowsize_stride1.csv\")\n",
    "\n",
    "\n",
    "protcnn_results_testset_ensemble2 = pd.read_csv(\"experiment_results/protcnn-eval-ensemble-2/InterProUniprotPF03272prepared_test.fasta_protcnn_results_flexible_windowsize_stride1_ensemble2.csv\")\n",
    "protcnn_results_otherfamilies_ensemble2 = [pd.read_csv(result_csv) for result_csv in glob.glob(\"experiment_results/protcnn-eval-ensemble-2/other-families*\")]\n",
    "protcnn_results_shuffled_ensemble2 = pd.read_csv(\"experiment_results/protcnn-eval-ensemble-2/esl-shuffled.fasta_protcnn_results_flexible_windowsize_stride1_ensemble2.csv\")\n",
    "\n",
    "protcnn_results_testset_ensemble3 = pd.read_csv(\"experiment_results/protcnn-eval-ensemble-3/InterProUniprotPF03272prepared_test.fasta_protcnn_results_flexible_windowsize_stride1.csv\")\n",
    "protcnn_results_otherfamilies_ensemble3 = [pd.read_csv(result_csv) for result_csv in glob.glob(\"experiment_results/protcnn-eval-ensemble-3/other-families*\")]\n",
    "protcnn_results_shuffled_ensemble3 = pd.read_csv(\"experiment_results/protcnn-eval-ensemble-3/esl-shuffled.fasta_protcnn_results_flexible_windowsize_stride1.csv\")\n",
    "\n",
    "protcnn_results_testset_threshold = pd.read_csv(\"experiment_results/protcnn-eval-threshold0.5/InterProUniprotPF03272prepared_test.fasta_protcnn_results_flexible_windowsize_stride1_threshold0.5.csv\")\n",
    "protcnn_results_otherfamilies_threshold = [pd.read_csv(result_csv) for result_csv in glob.glob(\"experiment_results/protcnn-eval-threshold0.5/other-families*\")]\n",
    "protcnn_results_shuffled_threshold = pd.read_csv(\"experiment_results/protcnn-eval-threshold0.5/esl-shuffled.fasta_protcnn_results_flexible_windowsize_stride1_threshold0.5.csv\")\n"
   ]
  },
  {
   "cell_type": "code",
   "execution_count": 70,
   "metadata": {},
   "outputs": [
    {
     "data": {
      "text/html": [
       "<div>\n",
       "<style scoped>\n",
       "    .dataframe tbody tr th:only-of-type {\n",
       "        vertical-align: middle;\n",
       "    }\n",
       "\n",
       "    .dataframe tbody tr th {\n",
       "        vertical-align: top;\n",
       "    }\n",
       "\n",
       "    .dataframe thead th {\n",
       "        text-align: right;\n",
       "    }\n",
       "</style>\n",
       "<table border=\"1\" class=\"dataframe\">\n",
       "  <thead>\n",
       "    <tr style=\"text-align: right;\">\n",
       "      <th></th>\n",
       "      <th>Test set</th>\n",
       "      <th>Other families</th>\n",
       "      <th>Shuffled</th>\n",
       "    </tr>\n",
       "  </thead>\n",
       "  <tbody>\n",
       "    <tr>\n",
       "      <th>Single</th>\n",
       "      <td>99.0</td>\n",
       "      <td>24.2</td>\n",
       "      <td>89.1</td>\n",
       "    </tr>\n",
       "    <tr>\n",
       "      <th>Ensemble 2</th>\n",
       "      <td>98.4</td>\n",
       "      <td>18.9</td>\n",
       "      <td>83.4</td>\n",
       "    </tr>\n",
       "    <tr>\n",
       "      <th>Ensemble 3</th>\n",
       "      <td>98.4</td>\n",
       "      <td>21.6</td>\n",
       "      <td>82.9</td>\n",
       "    </tr>\n",
       "    <tr>\n",
       "      <th>Single thresholded</th>\n",
       "      <td>99.0</td>\n",
       "      <td>13.2</td>\n",
       "      <td>65.3</td>\n",
       "    </tr>\n",
       "  </tbody>\n",
       "</table>\n",
       "</div>"
      ],
      "text/plain": [
       "                   Test set Other families Shuffled\n",
       "Single                 99.0           24.2     89.1\n",
       "Ensemble 2             98.4           18.9     83.4\n",
       "Ensemble 3             98.4           21.6     82.9\n",
       "Single thresholded     99.0           13.2     65.3"
      ]
     },
     "execution_count": 70,
     "metadata": {},
     "output_type": "execute_result"
    }
   ],
   "source": [
    "results_protcnn_datasets = generate_results_table_protcnn_datasets(column_names=[\"Test set\", \"Other families\", \"Shuffled\"],\n",
    "                                        row_names=[\"Single\", \"Ensemble 2\", \"Ensemble 3\", \"Single thresholded\"], \n",
    "                                        result_dfs_protcnn_configurations=[[protcnn_results_testset_single, protcnn_results_otherfamilies_single, protcnn_results_shuffled_single],\n",
    "                                                                           [protcnn_results_testset_ensemble2, protcnn_results_otherfamilies_ensemble2, protcnn_results_shuffled_ensemble2],\n",
    "                                                                           [protcnn_results_testset_ensemble3, protcnn_results_otherfamilies_ensemble3, protcnn_results_shuffled_ensemble3],\n",
    "                                                                           [protcnn_results_testset_threshold, protcnn_results_otherfamilies_threshold, protcnn_results_shuffled_threshold]])\n",
    "results_protcnn_datasets.to_csv(\"experiment_results/final_tables/results_protcnn_datasets.csv\")\n",
    "results_protcnn_datasets"
   ]
  },
  {
   "cell_type": "code",
   "execution_count": 72,
   "metadata": {},
   "outputs": [
    {
     "data": {
      "text/html": [
       "<div>\n",
       "<style scoped>\n",
       "    .dataframe tbody tr th:only-of-type {\n",
       "        vertical-align: middle;\n",
       "    }\n",
       "\n",
       "    .dataframe tbody tr th {\n",
       "        vertical-align: top;\n",
       "    }\n",
       "\n",
       "    .dataframe thead th {\n",
       "        text-align: right;\n",
       "    }\n",
       "</style>\n",
       "<table border=\"1\" class=\"dataframe\">\n",
       "  <thead>\n",
       "    <tr style=\"text-align: right;\">\n",
       "      <th></th>\n",
       "      <th>Precision</th>\n",
       "      <th>Recall</th>\n",
       "    </tr>\n",
       "  </thead>\n",
       "  <tbody>\n",
       "    <tr>\n",
       "      <th>Single</th>\n",
       "      <td>0.47</td>\n",
       "      <td>0.99</td>\n",
       "    </tr>\n",
       "    <tr>\n",
       "      <th>Ensemble 2</th>\n",
       "      <td>0.49</td>\n",
       "      <td>0.98</td>\n",
       "    </tr>\n",
       "    <tr>\n",
       "      <th>Ensemble 3</th>\n",
       "      <td>0.49</td>\n",
       "      <td>0.98</td>\n",
       "    </tr>\n",
       "    <tr>\n",
       "      <th>Single thresholded</th>\n",
       "      <td>0.56</td>\n",
       "      <td>0.99</td>\n",
       "    </tr>\n",
       "  </tbody>\n",
       "</table>\n",
       "</div>"
      ],
      "text/plain": [
       "                   Precision Recall\n",
       "Single                  0.47   0.99\n",
       "Ensemble 2              0.49   0.98\n",
       "Ensemble 3              0.49   0.98\n",
       "Single thresholded      0.56   0.99"
      ]
     },
     "execution_count": 72,
     "metadata": {},
     "output_type": "execute_result"
    }
   ],
   "source": [
    "results_precision_recall_protcnn_datasets = generate_precision_recall_table_protcnn_datasets(\n",
    "                                        row_names=[\"Single\", \"Ensemble 2\", \"Ensemble 3\", \"Single thresholded\"], \n",
    "                                        result_dfs_positive_protcnn_configurations=[protcnn_results_testset_single, protcnn_results_testset_ensemble2, protcnn_results_testset_ensemble3, protcnn_results_testset_threshold],\n",
    "                                        result_dfs_negative_protcnn_configurations=[[protcnn_results_otherfamilies_single, protcnn_results_shuffled_single],\n",
    "                                                                           protcnn_results_otherfamilies_ensemble2 + [protcnn_results_shuffled_ensemble2],\n",
    "                                                                           protcnn_results_otherfamilies_ensemble3 + [protcnn_results_shuffled_ensemble3],\n",
    "                                                                           protcnn_results_otherfamilies_threshold + [protcnn_results_shuffled_threshold]])\n",
    "results_precision_recall_protcnn_datasets.to_csv(\"experiment_results/final_tables/results_precision_recall_protcnn_datasets.csv\")\n",
    "results_precision_recall_protcnn_datasets"
   ]
  },
  {
   "attachments": {},
   "cell_type": "markdown",
   "metadata": {},
   "source": [
    "## Results for generated sequences"
   ]
  },
  {
   "cell_type": "code",
   "execution_count": 30,
   "metadata": {},
   "outputs": [],
   "source": [
    "protcnn_results_clustering_100 = [pd.read_csv(f\"experiment_results/protcnn-eval-threshold0.5/prompt-tuning-clustered-100-RITA_s-fromvocab-True-seed-{i}-generated.fasta_protcnn_results_flexible_windowsize_stride1_threshold0.5.csv\") for i in range(3)]\n",
    "protcnn_results_clustering_95 = [pd.read_csv(f\"experiment_results/protcnn-eval-threshold0.5/prompt-tuning-clustered-95-RITA_s-fromvocab-True-seed-{i}-generated.fasta_protcnn_results_flexible_windowsize_stride1_threshold0.5.csv\") for i in range(3)]\n",
    "protcnn_results_clustering_65 = [pd.read_csv(f\"experiment_results/protcnn-eval-threshold0.5/prompt-tuning-clustered-65-RITA_s-fromvocab-True-seed-{i}-generated.fasta_protcnn_results_flexible_windowsize_stride1_threshold0.5.csv\") for i in range(3)]\n",
    "protcnn_results_clustering_35 = [pd.read_csv(f\"experiment_results/protcnn-eval-threshold0.5/prompt-tuning-clustered-35-RITA_s-fromvocab-True-seed-{i}-generated.fasta_protcnn_results_flexible_windowsize_stride1_threshold0.5.csv\") for i in range(3)]\n",
    "protcnn_results_basemodel = [pd.read_csv(f\"experiment_results/protcnn-eval-threshold0.5/basemodel-RITA_s-generated.fasta_protcnn_results_flexible_windowsize_stride1_threshold0.5.csv\") for i in range(3)]"
   ]
  },
  {
   "cell_type": "code",
   "execution_count": 31,
   "metadata": {},
   "outputs": [],
   "source": [
    "protcnn_results_testdata = pd.read_csv(\"experiment_results/protcnn-eval-threshold0.5/InterProUniprotPF03272prepared_test.fasta_protcnn_results_flexible_windowsize_stride1_threshold0.5.csv\")"
   ]
  },
  {
   "cell_type": "code",
   "execution_count": 35,
   "metadata": {},
   "outputs": [
    {
     "data": {
      "text/html": [
       "<div>\n",
       "<style scoped>\n",
       "    .dataframe tbody tr th:only-of-type {\n",
       "        vertical-align: middle;\n",
       "    }\n",
       "\n",
       "    .dataframe tbody tr th {\n",
       "        vertical-align: top;\n",
       "    }\n",
       "\n",
       "    .dataframe thead th {\n",
       "        text-align: right;\n",
       "    }\n",
       "</style>\n",
       "<table border=\"1\" class=\"dataframe\">\n",
       "  <thead>\n",
       "    <tr style=\"text-align: right;\">\n",
       "      <th></th>\n",
       "      <th>100</th>\n",
       "      <th>95</th>\n",
       "      <th>65</th>\n",
       "      <th>35</th>\n",
       "    </tr>\n",
       "  </thead>\n",
       "  <tbody>\n",
       "    <tr>\n",
       "      <th>Prompt-tuned model (ours)</th>\n",
       "      <td>51.3 ± 4.08</td>\n",
       "      <td>52.85 ± 3.05</td>\n",
       "      <td>53.54 ± 8.94</td>\n",
       "      <td>52.16 ± 2.09</td>\n",
       "    </tr>\n",
       "  </tbody>\n",
       "</table>\n",
       "</div>"
      ],
      "text/plain": [
       "                                   100           95            65   \\\n",
       "Prompt-tuned model (ours)  51.3 ± 4.08  52.85 ± 3.05  53.54 ± 8.94   \n",
       "\n",
       "                                    35   \n",
       "Prompt-tuned model (ours)  52.16 ± 2.09  "
      ]
     },
     "execution_count": 35,
     "metadata": {},
     "output_type": "execute_result"
    }
   ],
   "source": [
    "table_protcnn_comparison_clustering = generate_results_table_protcnn_for_clustering_comparison([100, 95, 65, 35], [protcnn_results_clustering_100, protcnn_results_clustering_95, protcnn_results_clustering_65, protcnn_results_clustering_35])\n",
    "table_protcnn_comparison_clustering.to_csv(\"experiment_results/final_tables/results_protcnn_clustering.csv\")\n",
    "table_protcnn_comparison_clustering"
   ]
  },
  {
   "cell_type": "code",
   "execution_count": 14,
   "metadata": {},
   "outputs": [],
   "source": [
    "protcnn_results_S = [pd.read_csv(f\"experiment_results/protcnn-eval-threshold0.5/prompt-tuning-clustered-100-RITA_s-fromvocab-True-seed-{i}-generated.fasta_protcnn_results_flexible_windowsize_stride1_threshold0.5.csv\") for i in range(3)]\n",
    "protcnn_results_M = [pd.read_csv(f\"experiment_results/protcnn-eval-threshold0.5/prompt-tuning-clustered-100-RITA_m-fromvocab-True-seed-{i}-generated.fasta_protcnn_results_flexible_windowsize_stride1_threshold0.5.csv\") for i in range(3)]\n",
    "protcnn_results_L = [pd.read_csv(f\"experiment_results/protcnn-eval-threshold0.5/prompt-tuning-clustered-100-RITA_l-fromvocab-True-seed-{i}-generated.fasta_protcnn_results_flexible_windowsize_stride1_threshold0.5.csv\") for i in range(3)]\n",
    "protcnn_results_XL = [pd.read_csv(f\"experiment_results/protcnn-eval-threshold0.5/prompt-tuning-clustered-100-RITA_xl-fromvocab-True-seed-{i}-generated.fasta_protcnn_results_flexible_windowsize_stride1_threshold0.5.csv\") for i in range(3)]\n",
    "\n",
    "protcnn_results_SBase = pd.read_csv(f\"experiment_results/protcnn-eval-threshold0.5/basemodel-RITA_s-generated.fasta_protcnn_results_flexible_windowsize_stride1_threshold0.5.csv\")\n",
    "protcnn_results_MBase = pd.read_csv(f\"experiment_results/protcnn-eval-threshold0.5/basemodel-RITA_m-generated.fasta_protcnn_results_flexible_windowsize_stride1_threshold0.5.csv\")\n",
    "protcnn_results_LBase = pd.read_csv(f\"experiment_results/protcnn-eval-threshold0.5/basemodel-RITA_l-generated.fasta_protcnn_results_flexible_windowsize_stride1_threshold0.5.csv\")\n",
    "protcnn_results_XLBase = pd.read_csv(f\"experiment_results/protcnn-eval-threshold0.5/basemodel-RITA_xl-generated.fasta_protcnn_results_flexible_windowsize_stride1_threshold0.5.csv\")\n",
    "\n",
    "protcnn_results_SFinetuned = pd.read_csv(f\"experiment_results/protcnn-eval-threshold0.5/finetuned-RITA_s-generated.fasta_protcnn_results_flexible_windowsize_stride1_threshold0.5.csv\")\n",
    "protcnn_results_MFinetuned = pd.read_csv(f\"experiment_results/protcnn-eval-threshold0.5/finetuned-RITA_m-generated.fasta_protcnn_results_flexible_windowsize_stride1_threshold0.5.csv\")\n",
    "protcnn_results_LFinetuned = pd.read_csv(f\"experiment_results/protcnn-eval-threshold0.5/finetuned-RITA_l-generated.fasta_protcnn_results_flexible_windowsize_stride1_threshold0.5.csv\")\n",
    "protcnn_results_XLFinetuned = pd.read_csv(f\"experiment_results/protcnn-eval-threshold0.5/finetuned-RITA_xl-generated.fasta_protcnn_results_flexible_windowsize_stride1_threshold0.5.csv\")"
   ]
  },
  {
   "cell_type": "code",
   "execution_count": 15,
   "metadata": {},
   "outputs": [
    {
     "data": {
      "text/html": [
       "<div>\n",
       "<style scoped>\n",
       "    .dataframe tbody tr th:only-of-type {\n",
       "        vertical-align: middle;\n",
       "    }\n",
       "\n",
       "    .dataframe tbody tr th {\n",
       "        vertical-align: top;\n",
       "    }\n",
       "\n",
       "    .dataframe thead th {\n",
       "        text-align: right;\n",
       "    }\n",
       "</style>\n",
       "<table border=\"1\" class=\"dataframe\">\n",
       "  <thead>\n",
       "    <tr style=\"text-align: right;\">\n",
       "      <th></th>\n",
       "      <th>S</th>\n",
       "      <th>M</th>\n",
       "      <th>L</th>\n",
       "      <th>XL</th>\n",
       "    </tr>\n",
       "  </thead>\n",
       "  <tbody>\n",
       "    <tr>\n",
       "      <th>Prompt-tuned model (ours)</th>\n",
       "      <td>51.3 ± 4.08</td>\n",
       "      <td>52.16 ± 5.51</td>\n",
       "      <td>39.72 ± 1.36</td>\n",
       "      <td>24.35 ± 1.53</td>\n",
       "    </tr>\n",
       "    <tr>\n",
       "      <th>Finetuned model</th>\n",
       "      <td>67.36</td>\n",
       "      <td>75.13</td>\n",
       "      <td>80.31</td>\n",
       "      <td>70.47</td>\n",
       "    </tr>\n",
       "    <tr>\n",
       "      <th>Base model</th>\n",
       "      <td>9.84</td>\n",
       "      <td>11.92</td>\n",
       "      <td>13.47</td>\n",
       "      <td>16.58</td>\n",
       "    </tr>\n",
       "  </tbody>\n",
       "</table>\n",
       "</div>"
      ],
      "text/plain": [
       "                                     S             M             L  \\\n",
       "Prompt-tuned model (ours)  51.3 ± 4.08  52.16 ± 5.51  39.72 ± 1.36   \n",
       "Finetuned model                  67.36         75.13         80.31   \n",
       "Base model                        9.84         11.92         13.47   \n",
       "\n",
       "                                     XL  \n",
       "Prompt-tuned model (ours)  24.35 ± 1.53  \n",
       "Finetuned model                   70.47  \n",
       "Base model                        16.58  "
      ]
     },
     "execution_count": 15,
     "metadata": {},
     "output_type": "execute_result"
    }
   ],
   "source": [
    "table_protcnn_comparison_model_sizes = generate_results_table_protcnn_comparison([\"S\", \"M\", \"L\", \"XL\"],\n",
    "                                                                                 [protcnn_results_S, protcnn_results_M, protcnn_results_L, protcnn_results_XL],\n",
    "                                                                                 [protcnn_results_SFinetuned, protcnn_results_MFinetuned, protcnn_results_LFinetuned, protcnn_results_XLFinetuned],\n",
    "                                                                                 [protcnn_results_SBase, protcnn_results_MBase, protcnn_results_LBase, protcnn_results_XLBase])\n",
    "\n",
    "table_protcnn_comparison_model_sizes.to_csv(\"experiment_results/final_tables/results_protcnn_model_sizes.csv\")\n",
    "table_protcnn_comparison_model_sizes"
   ]
  },
  {
   "attachments": {},
   "cell_type": "markdown",
   "metadata": {},
   "source": [
    "# Results for HMMER"
   ]
  },
  {
   "cell_type": "code",
   "execution_count": 8,
   "metadata": {},
   "outputs": [],
   "source": [
    "base_hmmer_result_path = \"experiment_results/hmmer_results/\"\n",
    "\n",
    "hmmer_result_paths_s = [base_hmmer_result_path + f\"hmmer_s_prompt-tuned_{i}.out\" for i in range(3)]\n",
    "hmmer_result_paths_m = [base_hmmer_result_path + f\"hmmer_m_prompt-tuned_{i}.out\" for i in range(3)]\n",
    "hmmer_result_paths_l = [base_hmmer_result_path + f\"hmmer_l_prompt-tuned_{i}.out\" for i in range(3)]\n",
    "hmmer_result_paths_xl = [base_hmmer_result_path + f\"hmmer_xl_prompt-tuned_{i}.out\" for i in range(3)]\n",
    "hmmer_results_paths_pt = [hmmer_result_paths_s, hmmer_result_paths_m, hmmer_result_paths_l, hmmer_result_paths_xl]\n",
    "\n",
    "hmmer_results_paths_bm = [base_hmmer_result_path + \"hmmer_s_basemodel.out\", base_hmmer_result_path + \"hmmer_m_basemodel.out\",\n",
    "                            base_hmmer_result_path + \"hmmer_l_basemodel.out\", base_hmmer_result_path + \"hmmer_xl_basemodel.out\"]\n",
    "\n",
    "hmmer_results_paths_ft = [base_hmmer_result_path + \"hmmer_s_finetuned.out\", base_hmmer_result_path + \"hmmer_m_finetuned.out\",\n",
    "                            base_hmmer_result_path + \"hmmer_l_finetuned.out\", base_hmmer_result_path + \"hmmer_xl_finetuned.out\"]"
   ]
  },
  {
   "cell_type": "code",
   "execution_count": 9,
   "metadata": {},
   "outputs": [
    {
     "data": {
      "text/html": [
       "<div>\n",
       "<style scoped>\n",
       "    .dataframe tbody tr th:only-of-type {\n",
       "        vertical-align: middle;\n",
       "    }\n",
       "\n",
       "    .dataframe tbody tr th {\n",
       "        vertical-align: top;\n",
       "    }\n",
       "\n",
       "    .dataframe thead th {\n",
       "        text-align: right;\n",
       "    }\n",
       "</style>\n",
       "<table border=\"1\" class=\"dataframe\">\n",
       "  <thead>\n",
       "    <tr style=\"text-align: right;\">\n",
       "      <th></th>\n",
       "      <th>S</th>\n",
       "      <th>M</th>\n",
       "      <th>L</th>\n",
       "      <th>XL</th>\n",
       "    </tr>\n",
       "  </thead>\n",
       "  <tbody>\n",
       "    <tr>\n",
       "      <th>Prompt-tuned model (ours)</th>\n",
       "      <td>0.0 ± 0.0</td>\n",
       "      <td>0.0 ± 0.0</td>\n",
       "      <td>0.0 ± 0.0</td>\n",
       "      <td>0.0 ± 0.0</td>\n",
       "    </tr>\n",
       "    <tr>\n",
       "      <th>Finetuned model</th>\n",
       "      <td>24.87</td>\n",
       "      <td>33.16</td>\n",
       "      <td>48.7</td>\n",
       "      <td>54.92</td>\n",
       "    </tr>\n",
       "    <tr>\n",
       "      <th>Base model</th>\n",
       "      <td>0.0</td>\n",
       "      <td>0.0</td>\n",
       "      <td>0.0</td>\n",
       "      <td>0.0</td>\n",
       "    </tr>\n",
       "  </tbody>\n",
       "</table>\n",
       "</div>"
      ],
      "text/plain": [
       "                                   S          M          L         XL\n",
       "Prompt-tuned model (ours)  0.0 ± 0.0  0.0 ± 0.0  0.0 ± 0.0  0.0 ± 0.0\n",
       "Finetuned model                24.87      33.16       48.7      54.92\n",
       "Base model                       0.0        0.0        0.0        0.0"
      ]
     },
     "execution_count": 9,
     "metadata": {},
     "output_type": "execute_result"
    }
   ],
   "source": [
    "table_hmmer_results_all_sizes = generate_hmmer_results_table_comparison_prompttuned_finetuned_basemodel([\"S\", \"M\", \"L\", \"XL\"],\n",
    "                                                                                                        hmmer_results_paths_pt,\n",
    "                                                                                                        hmmer_results_paths_bm,\n",
    "                                                                                                        hmmer_results_paths_ft)\n",
    "table_hmmer_results_all_sizes.to_csv(\"experiment_results/final_tables/results_hmmer_model_sizes.csv\")\n",
    "table_hmmer_results_all_sizes"
   ]
  },
  {
   "cell_type": "markdown",
   "metadata": {},
   "source": [
    "# RAM usage"
   ]
  },
  {
   "cell_type": "code",
   "execution_count": 15,
   "metadata": {},
   "outputs": [],
   "source": [
    "ram_prompttuned_S = pd.read_csv(\"experiment_results/memory_usages/memory_usage_RITA_s_prompt.csv\")\n",
    "ram_prompttuned_M = pd.read_csv(\"experiment_results/memory_usages/memory_usage_RITA_m_prompt.csv\")\n",
    "ram_prompttuned_L = pd.read_csv(\"experiment_results/memory_usages/memory_usage_RITA_l_prompt.csv\")\n",
    "ram_prompttuned_XL = pd.read_csv(\"experiment_results/memory_usages/memory_usage_RITA_xl_prompt.csv\")\n",
    "\n",
    "ram_finetuned_S = pd.read_csv(\"experiment_results/memory_usages/memory_usage_RITA_s_finetuned.csv\")\n",
    "ram_finetuned_M = pd.read_csv(\"experiment_results/memory_usages/memory_usage_RITA_m_finetuned.csv\")\n",
    "ram_finetuned_L = pd.read_csv(\"experiment_results/memory_usages/memory_usage_RITA_l_finetuned.csv\")\n",
    "ram_finetuned_XL = pd.read_csv(\"experiment_results/memory_usages/memory_usage_RITA_xl_finetuned.csv\")"
   ]
  },
  {
   "cell_type": "code",
   "execution_count": 16,
   "metadata": {},
   "outputs": [
    {
     "data": {
      "text/html": [
       "<div>\n",
       "<style scoped>\n",
       "    .dataframe tbody tr th:only-of-type {\n",
       "        vertical-align: middle;\n",
       "    }\n",
       "\n",
       "    .dataframe tbody tr th {\n",
       "        vertical-align: top;\n",
       "    }\n",
       "\n",
       "    .dataframe thead th {\n",
       "        text-align: right;\n",
       "    }\n",
       "</style>\n",
       "<table border=\"1\" class=\"dataframe\">\n",
       "  <thead>\n",
       "    <tr style=\"text-align: right;\">\n",
       "      <th></th>\n",
       "      <th>S</th>\n",
       "      <th>M</th>\n",
       "      <th>L</th>\n",
       "      <th>XL</th>\n",
       "    </tr>\n",
       "  </thead>\n",
       "  <tbody>\n",
       "    <tr>\n",
       "      <th>Prompt-tuned model (ours)</th>\n",
       "      <td>2890</td>\n",
       "      <td>7902</td>\n",
       "      <td>12723</td>\n",
       "      <td>18096</td>\n",
       "    </tr>\n",
       "    <tr>\n",
       "      <th>Finetuned model</th>\n",
       "      <td>3793</td>\n",
       "      <td>10853</td>\n",
       "      <td>18881</td>\n",
       "      <td>28621</td>\n",
       "    </tr>\n",
       "  </tbody>\n",
       "</table>\n",
       "</div>"
      ],
      "text/plain": [
       "                              S      M      L     XL\n",
       "Prompt-tuned model (ours)  2890   7902  12723  18096\n",
       "Finetuned model            3793  10853  18881  28621"
      ]
     },
     "execution_count": 16,
     "metadata": {},
     "output_type": "execute_result"
    }
   ],
   "source": [
    "table_ram_results_all_sizes = generate_ram_usages_table_comparison_prompttuned_finetuned([\"S\", \"M\", \"L\", \"XL\"],\n",
    "                                                                                          [ram_prompttuned_S, ram_prompttuned_M, ram_prompttuned_L, ram_prompttuned_XL],\n",
    "                                                                                          [ram_finetuned_S, ram_finetuned_M, ram_finetuned_L, ram_finetuned_XL])\n",
    "table_ram_results_all_sizes.to_csv(\"experiment_results/final_tables/results_ram_model_sizes.csv\")\n",
    "table_ram_results_all_sizes"
   ]
  },
  {
   "cell_type": "markdown",
   "metadata": {},
   "source": [
    "# Activity Prediction"
   ]
  },
  {
   "cell_type": "code",
   "execution_count": 28,
   "metadata": {},
   "outputs": [
    {
     "data": {
      "text/plain": [
       "<matplotlib.legend.Legend at 0x7f4e636d6250>"
      ]
     },
     "execution_count": 28,
     "metadata": {},
     "output_type": "execute_result"
    },
    {
     "data": {
      "image/png": "[encoded data removed]",
      "text/plain": [
       "<Figure size 1200x800 with 1 Axes>"
      ]
     },
     "metadata": {},
     "output_type": "display_data"
    }
   ],
   "source": [
    "activity_data = pd.read_csv(\"../activity_prediction_metrics/test.csv\").to_numpy()\n",
    "\n",
    "plt.figure(figsize=(6,4), dpi=200)\n",
    "\n",
    "keys, _, values = list(zip(*[t for t in activity_data if t[1] == 'pt']))\n",
    "plt.scatter(keys, values, c = '#0060fa', label='prompt-tuned')\n",
    "\n",
    "keys, _, values = list(zip(*[t for t in activity_data if t[1] == 'base']))\n",
    "plt.scatter(keys, values, c = '#5da03b', label='base')\n",
    "\n",
    "keys, _, values = list(zip(*[t for t in activity_data if t[1] == 'fine']))\n",
    "plt.scatter(keys, values, c = '#e8d138', label='finetuned')\n",
    "\n",
    "plt.rc('font', **{'size'   : '14'})\n",
    "\n",
    "plt.legend()"
   ]
  }
 ],
 "metadata": {
  "kernelspec": {
   "display_name": "Python 3",
   "language": "python",
   "name": "python3"
  },
  "language_info": {
   "codemirror_mode": {
    "name": "ipython",
    "version": 3
   },
   "file_extension": ".py",
   "mimetype": "text/x-python",
   "name": "python",
   "nbconvert_exporter": "python",
   "pygments_lexer": "ipython3",
   "version": "3.9.16"
  },
  "vscode": {
   "interpreter": {
    "hash": "e7370f93d1d0cde622a1f8e1c04877d8463912d04d973331ad4851f04de6915a"
   }
  }
 },
 "nbformat": 4,
 "nbformat_minor": 4
}
